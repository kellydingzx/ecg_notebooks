{
  "cells": [
    {
      "cell_type": "markdown",
      "metadata": {
        "id": "view-in-github",
        "colab_type": "text"
      },
      "source": [
        "<a href=\"https://colab.research.google.com/github/kellydingzx/ecg_notebooks/blob/main/hamilton.ipynb\" target=\"_parent\"><img src=\"https://colab.research.google.com/assets/colab-badge.svg\" alt=\"Open In Colab\"/></a>"
      ]
    },
    {
      "cell_type": "markdown",
      "source": [
        "## Import"
      ],
      "metadata": {
        "id": "1_wWyrk3umjX"
      }
    },
    {
      "cell_type": "code",
      "execution_count": null,
      "metadata": {
        "id": "aNHsJaNSs43V"
      },
      "outputs": [],
      "source": [
        "! wget -r -N -c -np https://physionet.org/files/nsrdb/1.0.0/\n",
        "! pip install wfdb\n",
        "! pip install scipy"
      ]
    },
    {
      "cell_type": "code",
      "execution_count": 2,
      "metadata": {
        "id": "VHNDeMIOs1vo"
      },
      "outputs": [],
      "source": [
        "import pip\n",
        "import os\n",
        "\n",
        "try:\n",
        "    import wfdb\n",
        "except ModuleNotFoundError:\n",
        "    pip.main(['install', \"wfdb\"])\n",
        "    import wfdb\n",
        "\n",
        "import numpy as np\n",
        "import matplotlib.pyplot as plt "
      ]
    },
    {
      "cell_type": "code",
      "execution_count": 5,
      "metadata": {
        "id": "BG4V3Cjhs1vp"
      },
      "outputs": [],
      "source": [
        "import sys\n",
        "\n",
        "sys.path.append( '../src' )\n",
        "import readin\n",
        "import display\n",
        "# import algorithms.hamilton"
      ]
    },
    {
      "cell_type": "code",
      "execution_count": 6,
      "metadata": {
        "id": "TvM6AcORs1vp"
      },
      "outputs": [],
      "source": [
        "def evaluation(peaks, real_peaks, interval):\n",
        "    check_peaks = real_peaks[1:]\n",
        "    n_ref = len(check_peaks)\n",
        "    n_detected = len(peaks)\n",
        "    count = 0\n",
        "    checked_ind = 0\n",
        "    for i in range(n_detected):\n",
        "      det_peak = peaks[i]\n",
        "      for j in range(checked_ind, n_ref):\n",
        "          correct = check_peaks[j]\n",
        "          if det_peak > correct -interval and det_peak < correct +interval:\n",
        "              count +=1\n",
        "              checked_ind += 1\n",
        "              break\n",
        "\n",
        "    sensitivity = count/n_ref\n",
        "    ppv = count/n_detected\n",
        "    f1 = 2*ppv*sensitivity/(ppv+sensitivity)\n",
        "    result = {\"sensitivity\": str(sensitivity*100)+'%',\n",
        "              'PPV': str(ppv*100)+'%',\n",
        "              'F1': str(f1*100) + '%'\n",
        "              }\n",
        "    return result"
      ]
    },
    {
      "cell_type": "markdown",
      "source": [
        "## Example"
      ],
      "metadata": {
        "id": "AJ_edrtbvSti"
      }
    },
    {
      "cell_type": "code",
      "execution_count": null,
      "metadata": {
        "id": "4pxgK7Ozs1vp"
      },
      "outputs": [],
      "source": [
        "example_path = '/content/physionet.org/files/nsrdb/1.0.0/16265'\n",
        "leads = ['ECG2']\n",
        "fs=128\n",
        "\n",
        "n_samples = 30*60*fs\n",
        "raw_samples, real_peaks= readin.get_data(example_path, leads, 0, n_samples)"
      ]
    },
    {
      "cell_type": "code",
      "execution_count": null,
      "metadata": {
        "colab": {
          "base_uri": "https://localhost:8080/"
        },
        "id": "c4QlwwQSs1vq",
        "outputId": "e808e551-db28-4865-c9bf-869c883fae57"
      },
      "outputs": [
        {
          "data": {
            "text/plain": [
              "{'sensitivity': '100.0%',\n",
              " 'PPV': '89.95089549501823%',\n",
              " 'F1': '94.709630360629%'}"
            ]
          },
          "execution_count": 10,
          "metadata": {},
          "output_type": "execute_result"
        }
      ],
      "source": [
        "det_peaks = hamilton_detector(raw_samples, fs)\n",
        "evaluation(det_peaks, real_peaks, 150*(1000/128))"
      ]
    },
    {
      "cell_type": "code",
      "execution_count": 20,
      "metadata": {
        "id": "OFawihaes1vq"
      },
      "outputs": [],
      "source": [
        "import os\n",
        "arr = os.listdir('/content/physionet.org/files/nsrdb/1.0.0')\n",
        "\n",
        "sample_ids = []\n",
        "for file in arr:\n",
        "    if '.atr' in file:\n",
        "        sample_ids.append(file[:5])\n",
        "        \n",
        "root_folder = '/content/physionet.org/files/nsrdb/1.0.0'\n",
        "sensitivity = []\n",
        "ppv = []\n",
        "f1 = []"
      ]
    },
    {
      "cell_type": "code",
      "source": [
        "! pip install neurokit2\n",
        "import neurokit2 as nk2"
      ],
      "metadata": {
        "id": "p7vpaU5PZtc1"
      },
      "execution_count": null,
      "outputs": []
    },
    {
      "cell_type": "code",
      "source": [
        "def get_peaks(sample_path, leads, fs):\n",
        "    signal, rest = wfdb.rdsamp(sample_path, sampfrom=0, sampto=None, \n",
        "                                channel_names = leads)\n",
        "    cleaned = nk2.ecg_clean(signal, fs, method='hamilton2002')\n",
        "    signals, info = nk2.ecg_peaks(cleaned, fs, method='hamilton2002')\n",
        "\n",
        "    return info[\"ECG_R_Peaks\"]"
      ],
      "metadata": {
        "id": "TZIoNnltZWpY"
      },
      "execution_count": 24,
      "outputs": []
    },
    {
      "cell_type": "code",
      "execution_count": null,
      "metadata": {
        "colab": {
          "base_uri": "https://localhost:8080/"
        },
        "id": "npjKoVvms1vq",
        "outputId": "8976de05-9473-463b-d359-9319f9fb747a"
      },
      "outputs": [
        {
          "output_type": "stream",
          "name": "stdout",
          "text": [
            "hi\n",
            "{'sensitivity': '99.6970309028479%', 'PPV': '19.36654601810709%', 'F1': '32.43287639729616%'}\n",
            "hi\n",
            "{'sensitivity': '99.5884113748129%', 'PPV': '18.676945285402088%', 'F1': '31.454812513717478%'}\n",
            "hi\n",
            "{'sensitivity': '98.985153166698%', 'PPV': '23.85287031501911%', 'F1': '38.442168876951484%'}\n",
            "hi\n",
            "{'sensitivity': '99.38723730192925%', 'PPV': '20.621188343034227%', 'F1': '34.155650793389654%'}\n"
          ]
        }
      ],
      "source": [
        "for id in sample_ids:\n",
        "    sample_path = '/content/physionet.org/files/nsrdb/1.0.0/' + id\n",
        "    leads = ['ECG2']\n",
        "    fs=128\n",
        "    n_samples = 4*60*60*fs\n",
        "    raw_samples, real_peaks= readin.get_data(sample_path, leads, 0, n_samples)\n",
        "    peaks = get_peaks(sample_path, leads, fs)\n",
        "    # hamilton_detector(raw_samples, 128)\n",
        "    print('hi')\n",
        "    res = evaluation(peaks, real_peaks, int(150/(1000/128)))\n",
        "    sensitivity.append(res['sensitivity'])\n",
        "    ppv.append(res['PPV'])\n",
        "    f1.append(res['F1'])\n",
        "    print(res)"
      ]
    },
    {
      "cell_type": "code",
      "execution_count": 17,
      "metadata": {
        "id": "5BYRpHUOLWDD",
        "colab": {
          "base_uri": "https://localhost:8080/",
          "height": 353
        },
        "outputId": "986e19fd-45d9-44c5-9b70-c6baf371d9f6"
      },
      "outputs": [
        {
          "output_type": "execute_result",
          "data": {
            "text/plain": [
              "<matplotlib.legend.Legend at 0x7f5ce577fe20>"
            ]
          },
          "metadata": {},
          "execution_count": 17
        },
        {
          "output_type": "display_data",
          "data": {
            "text/plain": [
              "<Figure size 1080x360 with 1 Axes>"
            ],
            "image/png": "[encoded data removed]"
          },
          "metadata": {
            "needs_background": "light"
          }
        }
      ],
      "source": [
        "def to_float(arr):\n",
        "    ret = []\n",
        "    for x in arr:\n",
        "        ret.append(float(x[0:-1]))\n",
        "    return ret \n",
        "plt.figure(figsize=(15,5))\n",
        "plt.xlabel('Sample ID')\n",
        "plt.ylabel('Percentage')\n",
        "\n",
        "plt.plot(sample_ids, to_float(sensitivity), label='Sensitivity', marker='o', linestyle='--')\n",
        "plt.plot(sample_ids, to_float(ppv), label='PPV', marker='o', linestyle='--')\n",
        "plt.plot(sample_ids, to_float(f1), label='F1', marker='o', linestyle='--')\n",
        "\n",
        "plt.legend()"
      ]
    },
    {
      "cell_type": "code",
      "execution_count": 18,
      "metadata": {
        "id": "GU7uVEruLgwo",
        "colab": {
          "base_uri": "https://localhost:8080/"
        },
        "outputId": "bc43c609-0de5-4caa-9165-effa7fd591a5"
      },
      "outputs": [
        {
          "output_type": "execute_result",
          "data": {
            "text/plain": [
              "(90.90472143270864, 81.16738024455314, 85.19166149703122)"
            ]
          },
          "metadata": {},
          "execution_count": 18
        }
      ],
      "source": [
        "np.average(to_float(sensitivity)), np.average(to_float(ppv)), np.average(to_float(f1))"
      ]
    },
    {
      "cell_type": "markdown",
      "metadata": {
        "id": "DSgbTGoQGs_v"
      },
      "source": [
        "## Algorithm"
      ]
    },
    {
      "cell_type": "code",
      "execution_count": 8,
      "metadata": {
        "id": "eJLDoZjps1vq"
      },
      "outputs": [],
      "source": [
        "import pip\n",
        "\n",
        "try:\n",
        "    import wfdb\n",
        "except ModuleNotFoundError:\n",
        "    pip.main(['install', \"wfdb\"])\n",
        "    import wfdb\n",
        "\n",
        "import numpy as np\n",
        "from scipy import signal, ndimage\n",
        "\n",
        "def hamilton_detector(unfiltered_ecg, sampling_freq):\n",
        "\n",
        "    filtered_ecg = bandpass_ecg(unfiltered_ecg, 5, 11, sampling_freq)\n",
        "    diff = differentiated_ecg(unfiltered_ecg, sampling_freq)\n",
        "    averaged = time_averaged_ecg(unfiltered_ecg, sampling_freq)\n",
        "    \n",
        "    n_pks = []\n",
        "    n_pks_ave = 0.0\n",
        "    s_pks = []\n",
        "    s_pks_ave = 0.0\n",
        "    QRS = [0]\n",
        "    RR = []\n",
        "    RR_ave = 0.0\n",
        "\n",
        "    th = 0.0\n",
        "\n",
        "    i=0\n",
        "    idx = []\n",
        "    peaks = []  \n",
        "\n",
        "    for i in range(1, len(averaged)-1):\n",
        "\n",
        "        if averaged[i-1]<averaged[i] and averaged[i+1]<averaged[i]:\n",
        "            peak = i\n",
        "            peaks.append(i)\n",
        "\n",
        "            if averaged[peak] > th and (peak-QRS[-1])>0.3*sampling_freq:        \n",
        "                QRS.append(peak)\n",
        "                idx.append(i)\n",
        "                s_pks.append(averaged[peak])\n",
        "                if len(n_pks)>8:\n",
        "                    s_pks.pop(0)\n",
        "                s_pks_ave = np.mean(s_pks)\n",
        "\n",
        "                if RR_ave != 0.0:\n",
        "                    if QRS[-1]-QRS[-2] > 1.5*RR_ave:\n",
        "                        missed_peaks = peaks[QRS[-1]:QRS[-2]]\n",
        "                        for missed_peak in missed_peaks:\n",
        "                            if averaged[missed_peak]>0.3*th:\n",
        "                                if (missed_peak-peaks[QRS[-2]]< 0.2*sampling_freq and missed_peak-peaks[QRS[-2]] >0.36*sampling_freq) or diff[missed_peak] > 0.5*diff[QRS[-2]]:\n",
        "                                    QRS.append(missed_peak)\n",
        "                                    QRS.sort()\n",
        "                                    break\n",
        "\n",
        "                if len(QRS)>2:\n",
        "                    RR.append(QRS[-1]-QRS[-2])\n",
        "                    if len(RR)>8:\n",
        "                        RR.pop(0)\n",
        "                    RR_ave = int(np.median(RR))\n",
        "\n",
        "            else:\n",
        "                n_pks.append(averaged[peak])\n",
        "                if len(n_pks)>8:\n",
        "                    n_pks.pop(0)\n",
        "                n_pks_ave = np.mean(n_pks)\n",
        "\n",
        "            th = n_pks_ave + 0.189*(n_pks_ave-s_pks_ave)\n",
        "\n",
        "\n",
        "    QRS.pop(0)\n",
        "\n",
        "    return QRS\n",
        "\n",
        "def differentiated_ecg(input_signal, sampling_freq):\n",
        "    diff_signal = input_signal.copy()\n",
        "    for i in range(len(input_signal)):\n",
        "        current_sample = 2*input_signal[i]\n",
        "\n",
        "        if i>=1: current_sample += input_signal[i]\n",
        "        if i>=3: current_sample -= input_signal[i-3]\n",
        "        if i>=4: current_sample -= 2*input_signal[i-4]\n",
        "\n",
        "        diff_signal[i] = current_sample / (8*sampling_freq)\n",
        "    return diff_signal \n",
        "\n",
        "def bandpass_ecg(input_signal, low, high, sampling_freq):\n",
        "    return high_pass_scipy_butterworth(low_pass_scipy_butterworth(input_signal, high, sampling_freq), low, sampling_freq)\n",
        "\n",
        "def time_averaged_ecg(input_signal, sampling_freq):\n",
        "    filtered = bandpass_ecg(input_signal, 5, 11, sampling_freq)\n",
        "    diffed = differentiated_ecg(filtered, sampling_freq)\n",
        "    squared = np.square(diffed)\n",
        "    averaged = avg_ecg(squared, sampling_freq)\n",
        "    return averaged\n",
        "\n",
        "def avg_ecg(input_signal, sampling_freq):\n",
        "    window_size = 32\n",
        "    input_signal = input_signal.copy()\n",
        "    moving_avg =  input_signal.copy()\n",
        "    for index in range(len(input_signal)):\n",
        "        if index < window_size:\n",
        "            continue\n",
        "        else:\n",
        "            moving_avg[index] = np.sum(input_signal[index-(window_size-1): index+1])\n",
        "    moving_avg /= window_size\n",
        "    moving_avg[0: window_size] = 0\n",
        "    return moving_avg\n",
        "\n",
        "def low_pass_scipy_butterworth(input_signal, cutoff_freq, sampling_freq):\n",
        "    sos = signal.butter(2, cutoff_freq/(sampling_freq/2), 'low', output='sos')\n",
        "    filtered_signal = signal.sosfilt(sos, input_signal)\n",
        "    return filtered_signal\n",
        "\n",
        "def high_pass_scipy_butterworth(input_signal, cutoff_freq, sampling_freq):\n",
        "    sos = signal.butter(1, cutoff_freq/(sampling_freq/2), 'high', output='sos')\n",
        "    filtered_signal = signal.sosfilt(sos, input_signal)\n",
        "    return filtered_signal\n"
      ]
    }
  ],
  "metadata": {
    "colab": {
      "toc_visible": true,
      "provenance": [],
      "include_colab_link": true
    },
    "kernelspec": {
      "display_name": "Python 3",
      "language": "python",
      "name": "python3"
    },
    "language_info": {
      "codemirror_mode": {
        "name": "ipython",
        "version": 3
      },
      "file_extension": ".py",
      "mimetype": "text/x-python",
      "name": "python",
      "nbconvert_exporter": "python",
      "pygments_lexer": "ipython3",
      "version": "3.7.8"
    },
    "vscode": {
      "interpreter": {
        "hash": "365192fac04382026f06f6052da5e1c5de1719933779a103109965611448e9ab"
      }
    }
  },
  "nbformat": 4,
  "nbformat_minor": 0
}