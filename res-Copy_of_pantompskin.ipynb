{
  "cells": [
    {
      "cell_type": "markdown",
      "metadata": {
        "id": "view-in-github",
        "colab_type": "text"
      },
      "source": [
        "<a href=\"https://colab.research.google.com/github/kellydingzx/ecg_notebooks/blob/main/res-Copy_of_pantompskin.ipynb\" target=\"_parent\"><img src=\"https://colab.research.google.com/assets/colab-badge.svg\" alt=\"Open In Colab\"/></a>"
      ]
    },
    {
      "cell_type": "markdown",
      "metadata": {
        "id": "fRjCYnF-R6ZS"
      },
      "source": [
        "## Imports "
      ]
    },
    {
      "cell_type": "code",
      "source": [
        "!wget -r -N -c -np https://physionet.org/files/nsrdb/1.0.0/"
      ],
      "metadata": {
        "id": "G4cejnbiTk5b"
      },
      "execution_count": null,
      "outputs": []
    },
    {
      "cell_type": "code",
      "execution_count": 7,
      "metadata": {
        "id": "ELuJyYZER6ZU"
      },
      "outputs": [],
      "source": [
        "import pip\n",
        "import os\n",
        "\n",
        "try:\n",
        "    import wfdb\n",
        "except ModuleNotFoundError:\n",
        "    pip.main(['install', \"wfdb\"])\n",
        "    import wfdb\n",
        "\n",
        "import numpy as np\n",
        "import matplotlib.pyplot as plt "
      ]
    },
    {
      "cell_type": "code",
      "execution_count": 8,
      "metadata": {
        "id": "4CSWi4tnR6ZU"
      },
      "outputs": [],
      "source": [
        "import sys\n",
        "\n",
        "import numpy as np\n",
        "from scipy import signal, ndimage"
      ]
    },
    {
      "cell_type": "code",
      "source": [
        "def pan_tompkins(input_signal, sampling_frequency, low, high):\n",
        "    filtered_singal = bandpass_filter(input_signal, low, high,sampling_frequency)\n",
        "    moving_avg = moving_window_integration(squaring(derivative(filtered_singal, sampling_frequency\n",
        "                                            )), int(0.15*sampling_frequency))\n",
        "    moving_avg[: int(0.2 * sampling_frequency)] = 0\n",
        "    peaks = detect_peaks(moving_avg, sampling_frequency)\n",
        "\n",
        "    return peaks\n",
        "\n",
        "def detect_peaks(detection, sampling_rate=1000, **kwargs):\n",
        "    \"\"\"Based on https://github.com/berndporr/py-ecg-detectors/\n",
        "    Optimized for vectorized computation.\n",
        "    \"\"\"\n",
        "    min_peak_distance = int(0.3 * sampling_rate)\n",
        "    min_missed_distance = int(0.25 * sampling_rate)\n",
        "\n",
        "    signal_peaks = []\n",
        "\n",
        "    SPKI = 0.0\n",
        "    NPKI = 0.0\n",
        "\n",
        "    last_peak = 0\n",
        "    last_index = -1\n",
        "\n",
        "    peaks, _ = signal.find_peaks(detection, plateau_size=(1, 1))\n",
        "    for index, peak in enumerate(peaks):\n",
        "        peak_value = detection[peak]\n",
        "\n",
        "        threshold_I1 = NPKI + 0.25 * (SPKI - NPKI)\n",
        "        if peak_value > threshold_I1 and peak > last_peak + min_peak_distance:\n",
        "            signal_peaks.append(peak)\n",
        "\n",
        "            # RR_missed threshold is based on the previous eight R-R intervals\n",
        "            if len(signal_peaks) > 9:\n",
        "                RR_ave = (signal_peaks[-2] - signal_peaks[-10]) // 8\n",
        "                RR_missed = int(1.66 * RR_ave)\n",
        "                if peak - last_peak > RR_missed:\n",
        "                    missed_peaks = peaks[last_index + 1 : index]\n",
        "                    missed_peaks = missed_peaks[\n",
        "                        (missed_peaks > last_peak + min_missed_distance)\n",
        "                        & (missed_peaks < peak - min_missed_distance)\n",
        "                    ]\n",
        "                    threshold_I2 = 0.5 * threshold_I1\n",
        "                    missed_peaks = missed_peaks[detection[missed_peaks] > threshold_I2]\n",
        "                    if len(missed_peaks) > 0:\n",
        "                        signal_peaks[-1] = missed_peaks[np.argmax(detection[missed_peaks])]\n",
        "                        signal_peaks.append(peak)\n",
        "\n",
        "            last_peak = peak\n",
        "            last_index = index\n",
        "\n",
        "            SPKI = 0.125 * peak_value + 0.875 * SPKI\n",
        "        else:\n",
        "            NPKI = 0.125 * peak_value + 0.875 * NPKI\n",
        "\n",
        "    return signal_peaks\n",
        "\n",
        "def moving_window_integration(signal, window_size):\n",
        "    window_size = int(window_size)\n",
        "\n",
        "    mwa = ndimage.uniform_filter1d(signal, window_size, origin=(window_size - 1) // 2)\n",
        "\n",
        "    head_size = min(window_size - 1, len(signal))\n",
        "    mwa[:head_size] = np.cumsum(signal[:head_size]) / np.linspace(1, head_size, head_size)\n",
        "    return mwa\n",
        "\n",
        "def squaring(input_signal):\n",
        "    return np.square(input_signal)\n",
        "\n",
        "def derivative(input_signal, sampled_frequency):\n",
        "    return derivative_difference_equation(input_signal, sampled_frequency)\n",
        "\n",
        "def bandpass_filter(input_signal, low, high, sampling_freq):\n",
        "    return highpass_filter(lowpass_filter(input_signal, high, sampling_freq), low, sampling_freq)\n",
        "\n",
        "def lowpass_filter(input_signal, cutoff, sampling_freq):\n",
        "    return low_pass_scipy_butterworth(input_signal, cutoff, sampling_freq)\n",
        "\n",
        "def highpass_filter(input_signal, cutoff, sampling_freq):\n",
        "    return high_pass_scipy_butterworth(input_signal, cutoff, sampling_freq)\n",
        "\n",
        "def derivative_numpy(input_signal, sampling_frequency):\n",
        "    return np.diff(input_signal)\n",
        "\n",
        "# y(n) = (1/8)*T \n",
        "#        *[-x(n-2) -2*x(n-1) +2x(n+1) +x(n+2)]\n",
        "def derivative_difference_equation(input_signal, sampled_frequency):\n",
        "    derived_signal = input_signal.copy()\n",
        "    for index in range(len(input_signal)):\n",
        "        derived_sample = derived_signal[index]\n",
        "        if (index >= 2): derived_sample -= input_signal[index-2]\n",
        "        if (index >= 1): derived_sample -= 2*input_signal[index-1]\n",
        "        \n",
        "        if (index < len(input_signal)-1): derived_sample += 2*input_signal[index+1]\n",
        "        if (index < len(input_signal)-2): derived_sample += input_signal[index+2]\n",
        "    \n",
        "    derived_signal = derived_signal / ((1/8)*(1/sampled_frequency))\n",
        "    return derived_signal\n",
        "\n",
        "def low_pass_scipy_butterworth(input_signal, cutoff_freq, sampling_freq):\n",
        "    sos = signal.butter(2, cutoff_freq/(sampling_freq/2), 'low', output='sos')\n",
        "    filtered_signal = signal.sosfilt(sos, input_signal)\n",
        "    return filtered_signal\n",
        "\n",
        "def high_pass_scipy_butterworth(input_signal, cutoff_freq, sampling_freq):\n",
        "    sos = signal.butter(1, cutoff_freq/(sampling_freq/2), 'high', output='sos')\n",
        "    filtered_signal = signal.sosfilt(sos, input_signal)\n",
        "    return filtered_signal"
      ],
      "metadata": {
        "id": "Tbju7xTzSin_"
      },
      "execution_count": 9,
      "outputs": []
    },
    {
      "cell_type": "markdown",
      "metadata": {
        "id": "h5IcQzxER6ZV"
      },
      "source": [
        "## Run Method"
      ]
    },
    {
      "cell_type": "code",
      "source": [
        "! pip install neurokit2\n",
        "import neurokit2 as nk2"
      ],
      "metadata": {
        "id": "J5Nzcmm3sbg0",
        "colab": {
          "base_uri": "https://localhost:8080/"
        },
        "outputId": "cc65df93-f376-40cd-a4cf-673ac9a11aa0"
      },
      "execution_count": null,
      "outputs": [
        {
          "output_type": "stream",
          "name": "stdout",
          "text": [
            "Looking in indexes: https://pypi.org/simple, https://us-python.pkg.dev/colab-wheels/public/simple/\n",
            "Collecting neurokit2\n",
            "  Downloading neurokit2-0.2.3-py2.py3-none-any.whl (1.2 MB)\n",
            "\u001b[2K     \u001b[90m━━━━━━━━━━━━━━━━━━━━━━━━━━━━━━━━━━━━━━━━\u001b[0m \u001b[32m1.2/1.2 MB\u001b[0m \u001b[31m20.7 MB/s\u001b[0m eta \u001b[36m0:00:00\u001b[0m\n",
            "\u001b[?25hRequirement already satisfied: matplotlib in /usr/local/lib/python3.8/dist-packages (from neurokit2) (3.2.2)\n",
            "Requirement already satisfied: numpy in /usr/local/lib/python3.8/dist-packages (from neurokit2) (1.22.4)\n",
            "Requirement already satisfied: pandas in /usr/local/lib/python3.8/dist-packages (from neurokit2) (1.3.5)\n",
            "Requirement already satisfied: scikit-learn>=1.0.0 in /usr/local/lib/python3.8/dist-packages (from neurokit2) (1.0.2)\n",
            "Requirement already satisfied: scipy in /usr/local/lib/python3.8/dist-packages (from neurokit2) (1.7.3)\n",
            "Requirement already satisfied: joblib>=0.11 in /usr/local/lib/python3.8/dist-packages (from scikit-learn>=1.0.0->neurokit2) (1.2.0)\n",
            "Requirement already satisfied: threadpoolctl>=2.0.0 in /usr/local/lib/python3.8/dist-packages (from scikit-learn>=1.0.0->neurokit2) (3.1.0)\n",
            "Requirement already satisfied: python-dateutil>=2.1 in /usr/local/lib/python3.8/dist-packages (from matplotlib->neurokit2) (2.8.2)\n",
            "Requirement already satisfied: kiwisolver>=1.0.1 in /usr/local/lib/python3.8/dist-packages (from matplotlib->neurokit2) (1.4.4)\n",
            "Requirement already satisfied: cycler>=0.10 in /usr/local/lib/python3.8/dist-packages (from matplotlib->neurokit2) (0.11.0)\n",
            "Requirement already satisfied: pyparsing!=2.0.4,!=2.1.2,!=2.1.6,>=2.0.1 in /usr/local/lib/python3.8/dist-packages (from matplotlib->neurokit2) (3.0.9)\n",
            "Requirement already satisfied: pytz>=2017.3 in /usr/local/lib/python3.8/dist-packages (from pandas->neurokit2) (2022.7.1)\n",
            "Requirement already satisfied: six>=1.5 in /usr/local/lib/python3.8/dist-packages (from python-dateutil>=2.1->matplotlib->neurokit2) (1.15.0)\n",
            "Installing collected packages: neurokit2\n",
            "Successfully installed neurokit2-0.2.3\n"
          ]
        }
      ]
    },
    {
      "cell_type": "code",
      "source": [
        "def get_peaks(sample_path, leads, fs):\n",
        "    signal, rest = wfdb.rdsamp(sample_path, sampfrom=0, sampto=None, \n",
        "                                channel_names = leads)\n",
        "    cleaned = nk2.ecg_clean(signal, fs, method='pantompkins1985')\n",
        "    signals, info = nk2.ecg_peaks(cleaned, fs, method='pantompkins1985')\n",
        "\n",
        "    return info[\"ECG_R_Peaks\"]"
      ],
      "metadata": {
        "id": "HlQrJlCTsa5r"
      },
      "execution_count": null,
      "outputs": []
    },
    {
      "cell_type": "markdown",
      "source": [
        "## Low pass methods"
      ],
      "metadata": {
        "id": "k2eru3swWXMG"
      }
    },
    {
      "cell_type": "code",
      "source": [
        "spath = '/content/physionet.org/files/nsrdb/1.0.0/16272'\n",
        "print('Clean Signal')\n",
        "peaks, real_peaks = run_pantompkins(spath, 'ECG1', 5, 11, 360, 3000)\n",
        "evaluation(peaks, real_peaks, int(150/(1000/360)))"
      ],
      "metadata": {
        "id": "8LkeyzkRWWe3"
      },
      "execution_count": null,
      "outputs": []
    },
    {
      "cell_type": "markdown",
      "metadata": {
        "id": "jsdkTEqfR6ZX"
      },
      "source": [
        "## Run on Whole Dataset"
      ]
    },
    {
      "cell_type": "code",
      "source": [
        "from google.colab import drive\n",
        "drive.mount('/content/gdrive')"
      ],
      "metadata": {
        "colab": {
          "base_uri": "https://localhost:8080/"
        },
        "id": "R1D8cnc8uTWa",
        "outputId": "673184e0-a9e4-4803-f511-f7d04e1a110b"
      },
      "execution_count": 10,
      "outputs": [
        {
          "output_type": "stream",
          "name": "stdout",
          "text": [
            "Mounted at /content/gdrive\n"
          ]
        }
      ]
    },
    {
      "cell_type": "code",
      "execution_count": 11,
      "metadata": {
        "id": "kdl7ToxsR6ZX"
      },
      "outputs": [],
      "source": [
        "arr = os.listdir('/content/physionet.org/files/nsrdb/1.0.0')\n",
        "\n",
        "sample_ids = []\n",
        "for file in arr:\n",
        "    if '.atr' in file:\n",
        "      current_id = int(file[:5])\n",
        "      if current_id not in sample_ids:\n",
        "        sample_ids.append(current_id)\n",
        "sample_ids.sort()\n",
        "        "
      ]
    },
    {
      "cell_type": "code",
      "execution_count": null,
      "metadata": {
        "id": "ENyLPmidR6ZY"
      },
      "outputs": [],
      "source": [
        "root_folder = '/content/physionet.org/files/nsrdb/1.0.0/'\n",
        "sensitivity = []\n",
        "ppv = []\n",
        "f1 = []\n"
      ]
    },
    {
      "cell_type": "code",
      "source": [
        "for id in sample_ids:\n",
        "  for lead in ['ECG1', 'ECG2']:\n",
        "    \n",
        "    sample_path = root_folder + str(id)\n",
        "    peaks = get_peaks(sample_path, [lead], 128)\n",
        "    annots = wfdb.rdann(sample_path, 'atr', sampfrom=0, sampto=None)\n",
        "\n",
        "    model_save_name = str(id)+'-'+lead+'.npz'\n",
        "    path = F\"/content/gdrive/My Drive/2peaks/{model_save_name}\" \n",
        "    np.savez(path, detected = peaks, ref = annots.sample)\n",
        "\n",
        "    print(id, lead)"
      ],
      "metadata": {
        "colab": {
          "base_uri": "https://localhost:8080/"
        },
        "id": "6EXwk7Q7uG92",
        "outputId": "af6823f6-9127-44ba-aa84-9ded3e25c424"
      },
      "execution_count": null,
      "outputs": [
        {
          "output_type": "stream",
          "name": "stdout",
          "text": [
            "16265 ECG1\n",
            "16265 ECG2\n",
            "16272 ECG1\n",
            "16272 ECG2\n",
            "16273 ECG1\n",
            "16273 ECG2\n",
            "16420 ECG1\n",
            "16420 ECG2\n",
            "16483 ECG1\n",
            "16483 ECG2\n",
            "16539 ECG1\n",
            "16539 ECG2\n",
            "16773 ECG1\n",
            "16773 ECG2\n",
            "16786 ECG1\n",
            "16786 ECG2\n",
            "16795 ECG1\n",
            "16795 ECG2\n",
            "17052 ECG1\n",
            "17052 ECG2\n",
            "17453 ECG1\n",
            "17453 ECG2\n",
            "18177 ECG1\n",
            "18177 ECG2\n",
            "18184 ECG1\n",
            "18184 ECG2\n",
            "19088 ECG1\n",
            "19088 ECG2\n",
            "19090 ECG1\n",
            "19090 ECG2\n",
            "19093 ECG1\n",
            "19093 ECG2\n",
            "19140 ECG1\n",
            "19140 ECG2\n",
            "19830 ECG1\n",
            "19830 ECG2\n"
          ]
        }
      ]
    },
    {
      "cell_type": "code",
      "source": [
        "def evaluation(peaks, real_peaks, interval):\n",
        "    check_peaks = peaks.copy()\n",
        "    n_ref = len(real_peaks[1:])\n",
        "    n_detected = len(peaks)\n",
        "    count = 0\n",
        "    for i in range(n_ref):\n",
        "        correct = real_peaks[1:][i]\n",
        "        condition = (check_peaks>=correct-interval) & (check_peaks<=correct+interval)\n",
        "        found = np.array(check_peaks)[condition]\n",
        "        if len(found) >= 1:\n",
        "          for f in found:\n",
        "            check_peaks.remove(f)\n",
        "          count += 1\n",
        "    sensitivity = count/n_ref\n",
        "    ppv = count/n_detected\n",
        "    f1 = 2*ppv*sensitivity/(ppv+sensitivity)\n",
        "    result = {\"sensitivity\": str(sensitivity*100)+'%',\n",
        "              'PPV': str(ppv*100)+'%',\n",
        "              'F1': str(f1*100) + '%'\n",
        "              }\n",
        "    return result"
      ],
      "metadata": {
        "id": "I45jSaUYu6Cj"
      },
      "execution_count": 12,
      "outputs": []
    },
    {
      "cell_type": "code",
      "source": [
        "import pandas as pd"
      ],
      "metadata": {
        "id": "lvGGTXEtu6m3"
      },
      "execution_count": 1,
      "outputs": []
    },
    {
      "cell_type": "code",
      "source": [
        "df_sen = pd.DataFrame(0.0, index=sample_ids, columns=['ECG1', 'ECG2'])\n",
        "df_ppv = pd.DataFrame(0.0, index=sample_ids, columns=['ECG1', 'ECG2'])\n",
        "df_f1 = pd.DataFrame(0.0, index=sample_ids, columns=['ECG1', 'ECG2'])"
      ],
      "metadata": {
        "id": "mDFooQiovezX"
      },
      "execution_count": null,
      "outputs": []
    },
    {
      "cell_type": "code",
      "source": [
        "df_sen = pd.read_csv(\"/content/gdrive/My Drive/2peaks/sen.csv\" )\n",
        "df_ppv = pd.read_csv(\"/content/gdrive/My Drive/2peaks/ppv.csv\" )\n",
        "df_f1 = pd.read_csv(\"/content/gdrive/My Drive/2peaks/f1.csv\" )\n",
        "\n",
        "df_ppv.set_index('Unnamed: 0')\n",
        "df_sen.set_index('Unnamed: 0')\n",
        "df_f1.set_index('Unnamed: 0')"
      ],
      "metadata": {
        "colab": {
          "base_uri": "https://localhost:8080/",
          "height": 645
        },
        "id": "5-bMEKIXSXSt",
        "outputId": "3ea6623a-8a80-43d4-88e1-751ce4f305fa"
      },
      "execution_count": 13,
      "outputs": [
        {
          "output_type": "execute_result",
          "data": {
            "text/plain": [
              "                 ECG1       ECG2\n",
              "Unnamed: 0                      \n",
              "16265       99.765185  99.644795\n",
              "16272       35.998264  33.175891\n",
              "16273       99.857727  99.843316\n",
              "16420       99.827898  99.800536\n",
              "16483       99.892774  99.892773\n",
              "16539       99.818861  99.809648\n",
              "16773       84.140309  84.141555\n",
              "16786       99.947879  99.914454\n",
              "16795       99.548605  99.545179\n",
              "17052       99.746527  99.729467\n",
              "17453        0.000000   0.000000\n",
              "18177        0.000000   0.000000\n",
              "18184        0.000000   0.000000\n",
              "19088        0.000000   0.000000\n",
              "19090        0.000000   0.000000\n",
              "19093       94.695706  94.687760\n",
              "19140       99.908155  99.902997\n",
              "19830       99.598002  99.592742"
            ],
            "text/html": [
              "\n",
              "  <div id=\"df-02e77734-8393-4116-bedd-a9ad85ef884a\">\n",
              "    <div class=\"colab-df-container\">\n",
              "      <div>\n",
              "<style scoped>\n",
              "    .dataframe tbody tr th:only-of-type {\n",
              "        vertical-align: middle;\n",
              "    }\n",
              "\n",
              "    .dataframe tbody tr th {\n",
              "        vertical-align: top;\n",
              "    }\n",
              "\n",
              "    .dataframe thead th {\n",
              "        text-align: right;\n",
              "    }\n",
              "</style>\n",
              "<table border=\"1\" class=\"dataframe\">\n",
              "  <thead>\n",
              "    <tr style=\"text-align: right;\">\n",
              "      <th></th>\n",
              "      <th>ECG1</th>\n",
              "      <th>ECG2</th>\n",
              "    </tr>\n",
              "    <tr>\n",
              "      <th>Unnamed: 0</th>\n",
              "      <th></th>\n",
              "      <th></th>\n",
              "    </tr>\n",
              "  </thead>\n",
              "  <tbody>\n",
              "    <tr>\n",
              "      <th>16265</th>\n",
              "      <td>99.765185</td>\n",
              "      <td>99.644795</td>\n",
              "    </tr>\n",
              "    <tr>\n",
              "      <th>16272</th>\n",
              "      <td>35.998264</td>\n",
              "      <td>33.175891</td>\n",
              "    </tr>\n",
              "    <tr>\n",
              "      <th>16273</th>\n",
              "      <td>99.857727</td>\n",
              "      <td>99.843316</td>\n",
              "    </tr>\n",
              "    <tr>\n",
              "      <th>16420</th>\n",
              "      <td>99.827898</td>\n",
              "      <td>99.800536</td>\n",
              "    </tr>\n",
              "    <tr>\n",
              "      <th>16483</th>\n",
              "      <td>99.892774</td>\n",
              "      <td>99.892773</td>\n",
              "    </tr>\n",
              "    <tr>\n",
              "      <th>16539</th>\n",
              "      <td>99.818861</td>\n",
              "      <td>99.809648</td>\n",
              "    </tr>\n",
              "    <tr>\n",
              "      <th>16773</th>\n",
              "      <td>84.140309</td>\n",
              "      <td>84.141555</td>\n",
              "    </tr>\n",
              "    <tr>\n",
              "      <th>16786</th>\n",
              "      <td>99.947879</td>\n",
              "      <td>99.914454</td>\n",
              "    </tr>\n",
              "    <tr>\n",
              "      <th>16795</th>\n",
              "      <td>99.548605</td>\n",
              "      <td>99.545179</td>\n",
              "    </tr>\n",
              "    <tr>\n",
              "      <th>17052</th>\n",
              "      <td>99.746527</td>\n",
              "      <td>99.729467</td>\n",
              "    </tr>\n",
              "    <tr>\n",
              "      <th>17453</th>\n",
              "      <td>0.000000</td>\n",
              "      <td>0.000000</td>\n",
              "    </tr>\n",
              "    <tr>\n",
              "      <th>18177</th>\n",
              "      <td>0.000000</td>\n",
              "      <td>0.000000</td>\n",
              "    </tr>\n",
              "    <tr>\n",
              "      <th>18184</th>\n",
              "      <td>0.000000</td>\n",
              "      <td>0.000000</td>\n",
              "    </tr>\n",
              "    <tr>\n",
              "      <th>19088</th>\n",
              "      <td>0.000000</td>\n",
              "      <td>0.000000</td>\n",
              "    </tr>\n",
              "    <tr>\n",
              "      <th>19090</th>\n",
              "      <td>0.000000</td>\n",
              "      <td>0.000000</td>\n",
              "    </tr>\n",
              "    <tr>\n",
              "      <th>19093</th>\n",
              "      <td>94.695706</td>\n",
              "      <td>94.687760</td>\n",
              "    </tr>\n",
              "    <tr>\n",
              "      <th>19140</th>\n",
              "      <td>99.908155</td>\n",
              "      <td>99.902997</td>\n",
              "    </tr>\n",
              "    <tr>\n",
              "      <th>19830</th>\n",
              "      <td>99.598002</td>\n",
              "      <td>99.592742</td>\n",
              "    </tr>\n",
              "  </tbody>\n",
              "</table>\n",
              "</div>\n",
              "      <button class=\"colab-df-convert\" onclick=\"convertToInteractive('df-02e77734-8393-4116-bedd-a9ad85ef884a')\"\n",
              "              title=\"Convert this dataframe to an interactive table.\"\n",
              "              style=\"display:none;\">\n",
              "        \n",
              "  <svg xmlns=\"http://www.w3.org/2000/svg\" height=\"24px\"viewBox=\"0 0 24 24\"\n",
              "       width=\"24px\">\n",
              "    <path d=\"M0 0h24v24H0V0z\" fill=\"none\"/>\n",
              "    <path d=\"M18.56 5.44l.94 2.06.94-2.06 2.06-.94-2.06-.94-.94-2.06-.94 2.06-2.06.94zm-11 1L8.5 8.5l.94-2.06 2.06-.94-2.06-.94L8.5 2.5l-.94 2.06-2.06.94zm10 10l.94 2.06.94-2.06 2.06-.94-2.06-.94-.94-2.06-.94 2.06-2.06.94z\"/><path d=\"M17.41 7.96l-1.37-1.37c-.4-.4-.92-.59-1.43-.59-.52 0-1.04.2-1.43.59L10.3 9.45l-7.72 7.72c-.78.78-.78 2.05 0 2.83L4 21.41c.39.39.9.59 1.41.59.51 0 1.02-.2 1.41-.59l7.78-7.78 2.81-2.81c.8-.78.8-2.07 0-2.86zM5.41 20L4 18.59l7.72-7.72 1.47 1.35L5.41 20z\"/>\n",
              "  </svg>\n",
              "      </button>\n",
              "      \n",
              "  <style>\n",
              "    .colab-df-container {\n",
              "      display:flex;\n",
              "      flex-wrap:wrap;\n",
              "      gap: 12px;\n",
              "    }\n",
              "\n",
              "    .colab-df-convert {\n",
              "      background-color: #E8F0FE;\n",
              "      border: none;\n",
              "      border-radius: 50%;\n",
              "      cursor: pointer;\n",
              "      display: none;\n",
              "      fill: #1967D2;\n",
              "      height: 32px;\n",
              "      padding: 0 0 0 0;\n",
              "      width: 32px;\n",
              "    }\n",
              "\n",
              "    .colab-df-convert:hover {\n",
              "      background-color: #E2EBFA;\n",
              "      box-shadow: 0px 1px 2px rgba(60, 64, 67, 0.3), 0px 1px 3px 1px rgba(60, 64, 67, 0.15);\n",
              "      fill: #174EA6;\n",
              "    }\n",
              "\n",
              "    [theme=dark] .colab-df-convert {\n",
              "      background-color: #3B4455;\n",
              "      fill: #D2E3FC;\n",
              "    }\n",
              "\n",
              "    [theme=dark] .colab-df-convert:hover {\n",
              "      background-color: #434B5C;\n",
              "      box-shadow: 0px 1px 3px 1px rgba(0, 0, 0, 0.15);\n",
              "      filter: drop-shadow(0px 1px 2px rgba(0, 0, 0, 0.3));\n",
              "      fill: #FFFFFF;\n",
              "    }\n",
              "  </style>\n",
              "\n",
              "      <script>\n",
              "        const buttonEl =\n",
              "          document.querySelector('#df-02e77734-8393-4116-bedd-a9ad85ef884a button.colab-df-convert');\n",
              "        buttonEl.style.display =\n",
              "          google.colab.kernel.accessAllowed ? 'block' : 'none';\n",
              "\n",
              "        async function convertToInteractive(key) {\n",
              "          const element = document.querySelector('#df-02e77734-8393-4116-bedd-a9ad85ef884a');\n",
              "          const dataTable =\n",
              "            await google.colab.kernel.invokeFunction('convertToInteractive',\n",
              "                                                     [key], {});\n",
              "          if (!dataTable) return;\n",
              "\n",
              "          const docLinkHtml = 'Like what you see? Visit the ' +\n",
              "            '<a target=\"_blank\" href=https://colab.research.google.com/notebooks/data_table.ipynb>data table notebook</a>'\n",
              "            + ' to learn more about interactive tables.';\n",
              "          element.innerHTML = '';\n",
              "          dataTable['output_type'] = 'display_data';\n",
              "          await google.colab.output.renderOutput(dataTable, element);\n",
              "          const docLink = document.createElement('div');\n",
              "          docLink.innerHTML = docLinkHtml;\n",
              "          element.appendChild(docLink);\n",
              "        }\n",
              "      </script>\n",
              "    </div>\n",
              "  </div>\n",
              "  "
            ]
          },
          "metadata": {},
          "execution_count": 13
        }
      ]
    },
    {
      "cell_type": "code",
      "source": [
        "for id in sample_ids[10:15]:\n",
        "\n",
        "  for lead in ['ECG1', 'ECG2']:\n",
        "    model_save_name = str(id)+'-'+lead+'.npz'\n",
        "    path = F\"/content/gdrive/My Drive/2peaks/{model_save_name}\" \n",
        "    saved = np.load(path, allow_pickle=True)\n",
        "    peaks = list(saved['detected'])\n",
        "    real_peaks = list(saved['ref'])\n",
        "    res = evaluation(peaks, real_peaks, int(150/(1000/128)))\n",
        "    df_sen.loc[id, lead] = float(res['sensitivity'][0:-1])\n",
        "    df_ppv.loc[id, lead] = float(res['PPV'][0:-1])\n",
        "    df_f1.loc[id, lead] = float(res['F1'][0:-1])\n",
        "\n",
        "    df_sen.to_csv(\"/content/gdrive/My Drive/2peaks/sen.csv\" )\n",
        "    df_ppv.to_csv(\"/content/gdrive/My Drive/2peaks/ppv.csv\" )\n",
        "    df_f1.to_csv(\"/content/gdrive/My Drive/2peaks/f1.csv\" )"
      ],
      "metadata": {
        "id": "xySdVRbVvaBF"
      },
      "execution_count": 14,
      "outputs": []
    },
    {
      "cell_type": "code",
      "source": [
        "df_ppv"
      ],
      "metadata": {
        "id": "JzMVH1pmKTvV",
        "outputId": "66a588d0-dc5d-446d-907e-41130e3c7b9a",
        "colab": {
          "base_uri": "https://localhost:8080/",
          "height": 771
        }
      },
      "execution_count": 15,
      "outputs": [
        {
          "output_type": "execute_result",
          "data": {
            "text/plain": [
              "       Unnamed: 0        ECG1       ECG2\n",
              "0         16265.0  100.000000  99.810177\n",
              "1         16272.0   95.084424  98.291335\n",
              "2         16273.0  100.000000  99.961061\n",
              "3         16420.0   99.994123  99.957890\n",
              "4         16483.0   99.996167  99.997125\n",
              "5         16539.0   99.996306  99.984302\n",
              "6         16773.0  100.000000  99.995122\n",
              "7         16786.0   99.999016  99.951801\n",
              "8         16795.0   99.997698  99.991944\n",
              "9         17052.0   99.997716  99.970312\n",
              "10        17453.0    0.000000   0.000000\n",
              "11        18177.0    0.000000   0.000000\n",
              "12        18184.0    0.000000   0.000000\n",
              "13        19088.0    0.000000   0.000000\n",
              "14        19090.0    0.000000   0.000000\n",
              "15        19093.0  100.000000  99.986710\n",
              "16        19140.0  100.000000  99.992770\n",
              "17        19830.0   99.995470  99.952021\n",
              "17453         NaN   99.997020  99.940430\n",
              "18177         NaN   99.994837  99.971208\n",
              "18184         NaN   99.805988  99.998046\n",
              "19088         NaN   99.992975  99.832623\n",
              "19090         NaN   99.992649  99.984074"
            ],
            "text/html": [
              "\n",
              "  <div id=\"df-40412cd8-fc36-47bb-933b-6ca532100a94\">\n",
              "    <div class=\"colab-df-container\">\n",
              "      <div>\n",
              "<style scoped>\n",
              "    .dataframe tbody tr th:only-of-type {\n",
              "        vertical-align: middle;\n",
              "    }\n",
              "\n",
              "    .dataframe tbody tr th {\n",
              "        vertical-align: top;\n",
              "    }\n",
              "\n",
              "    .dataframe thead th {\n",
              "        text-align: right;\n",
              "    }\n",
              "</style>\n",
              "<table border=\"1\" class=\"dataframe\">\n",
              "  <thead>\n",
              "    <tr style=\"text-align: right;\">\n",
              "      <th></th>\n",
              "      <th>Unnamed: 0</th>\n",
              "      <th>ECG1</th>\n",
              "      <th>ECG2</th>\n",
              "    </tr>\n",
              "  </thead>\n",
              "  <tbody>\n",
              "    <tr>\n",
              "      <th>0</th>\n",
              "      <td>16265.0</td>\n",
              "      <td>100.000000</td>\n",
              "      <td>99.810177</td>\n",
              "    </tr>\n",
              "    <tr>\n",
              "      <th>1</th>\n",
              "      <td>16272.0</td>\n",
              "      <td>95.084424</td>\n",
              "      <td>98.291335</td>\n",
              "    </tr>\n",
              "    <tr>\n",
              "      <th>2</th>\n",
              "      <td>16273.0</td>\n",
              "      <td>100.000000</td>\n",
              "      <td>99.961061</td>\n",
              "    </tr>\n",
              "    <tr>\n",
              "      <th>3</th>\n",
              "      <td>16420.0</td>\n",
              "      <td>99.994123</td>\n",
              "      <td>99.957890</td>\n",
              "    </tr>\n",
              "    <tr>\n",
              "      <th>4</th>\n",
              "      <td>16483.0</td>\n",
              "      <td>99.996167</td>\n",
              "      <td>99.997125</td>\n",
              "    </tr>\n",
              "    <tr>\n",
              "      <th>5</th>\n",
              "      <td>16539.0</td>\n",
              "      <td>99.996306</td>\n",
              "      <td>99.984302</td>\n",
              "    </tr>\n",
              "    <tr>\n",
              "      <th>6</th>\n",
              "      <td>16773.0</td>\n",
              "      <td>100.000000</td>\n",
              "      <td>99.995122</td>\n",
              "    </tr>\n",
              "    <tr>\n",
              "      <th>7</th>\n",
              "      <td>16786.0</td>\n",
              "      <td>99.999016</td>\n",
              "      <td>99.951801</td>\n",
              "    </tr>\n",
              "    <tr>\n",
              "      <th>8</th>\n",
              "      <td>16795.0</td>\n",
              "      <td>99.997698</td>\n",
              "      <td>99.991944</td>\n",
              "    </tr>\n",
              "    <tr>\n",
              "      <th>9</th>\n",
              "      <td>17052.0</td>\n",
              "      <td>99.997716</td>\n",
              "      <td>99.970312</td>\n",
              "    </tr>\n",
              "    <tr>\n",
              "      <th>10</th>\n",
              "      <td>17453.0</td>\n",
              "      <td>0.000000</td>\n",
              "      <td>0.000000</td>\n",
              "    </tr>\n",
              "    <tr>\n",
              "      <th>11</th>\n",
              "      <td>18177.0</td>\n",
              "      <td>0.000000</td>\n",
              "      <td>0.000000</td>\n",
              "    </tr>\n",
              "    <tr>\n",
              "      <th>12</th>\n",
              "      <td>18184.0</td>\n",
              "      <td>0.000000</td>\n",
              "      <td>0.000000</td>\n",
              "    </tr>\n",
              "    <tr>\n",
              "      <th>13</th>\n",
              "      <td>19088.0</td>\n",
              "      <td>0.000000</td>\n",
              "      <td>0.000000</td>\n",
              "    </tr>\n",
              "    <tr>\n",
              "      <th>14</th>\n",
              "      <td>19090.0</td>\n",
              "      <td>0.000000</td>\n",
              "      <td>0.000000</td>\n",
              "    </tr>\n",
              "    <tr>\n",
              "      <th>15</th>\n",
              "      <td>19093.0</td>\n",
              "      <td>100.000000</td>\n",
              "      <td>99.986710</td>\n",
              "    </tr>\n",
              "    <tr>\n",
              "      <th>16</th>\n",
              "      <td>19140.0</td>\n",
              "      <td>100.000000</td>\n",
              "      <td>99.992770</td>\n",
              "    </tr>\n",
              "    <tr>\n",
              "      <th>17</th>\n",
              "      <td>19830.0</td>\n",
              "      <td>99.995470</td>\n",
              "      <td>99.952021</td>\n",
              "    </tr>\n",
              "    <tr>\n",
              "      <th>17453</th>\n",
              "      <td>NaN</td>\n",
              "      <td>99.997020</td>\n",
              "      <td>99.940430</td>\n",
              "    </tr>\n",
              "    <tr>\n",
              "      <th>18177</th>\n",
              "      <td>NaN</td>\n",
              "      <td>99.994837</td>\n",
              "      <td>99.971208</td>\n",
              "    </tr>\n",
              "    <tr>\n",
              "      <th>18184</th>\n",
              "      <td>NaN</td>\n",
              "      <td>99.805988</td>\n",
              "      <td>99.998046</td>\n",
              "    </tr>\n",
              "    <tr>\n",
              "      <th>19088</th>\n",
              "      <td>NaN</td>\n",
              "      <td>99.992975</td>\n",
              "      <td>99.832623</td>\n",
              "    </tr>\n",
              "    <tr>\n",
              "      <th>19090</th>\n",
              "      <td>NaN</td>\n",
              "      <td>99.992649</td>\n",
              "      <td>99.984074</td>\n",
              "    </tr>\n",
              "  </tbody>\n",
              "</table>\n",
              "</div>\n",
              "      <button class=\"colab-df-convert\" onclick=\"convertToInteractive('df-40412cd8-fc36-47bb-933b-6ca532100a94')\"\n",
              "              title=\"Convert this dataframe to an interactive table.\"\n",
              "              style=\"display:none;\">\n",
              "        \n",
              "  <svg xmlns=\"http://www.w3.org/2000/svg\" height=\"24px\"viewBox=\"0 0 24 24\"\n",
              "       width=\"24px\">\n",
              "    <path d=\"M0 0h24v24H0V0z\" fill=\"none\"/>\n",
              "    <path d=\"M18.56 5.44l.94 2.06.94-2.06 2.06-.94-2.06-.94-.94-2.06-.94 2.06-2.06.94zm-11 1L8.5 8.5l.94-2.06 2.06-.94-2.06-.94L8.5 2.5l-.94 2.06-2.06.94zm10 10l.94 2.06.94-2.06 2.06-.94-2.06-.94-.94-2.06-.94 2.06-2.06.94z\"/><path d=\"M17.41 7.96l-1.37-1.37c-.4-.4-.92-.59-1.43-.59-.52 0-1.04.2-1.43.59L10.3 9.45l-7.72 7.72c-.78.78-.78 2.05 0 2.83L4 21.41c.39.39.9.59 1.41.59.51 0 1.02-.2 1.41-.59l7.78-7.78 2.81-2.81c.8-.78.8-2.07 0-2.86zM5.41 20L4 18.59l7.72-7.72 1.47 1.35L5.41 20z\"/>\n",
              "  </svg>\n",
              "      </button>\n",
              "      \n",
              "  <style>\n",
              "    .colab-df-container {\n",
              "      display:flex;\n",
              "      flex-wrap:wrap;\n",
              "      gap: 12px;\n",
              "    }\n",
              "\n",
              "    .colab-df-convert {\n",
              "      background-color: #E8F0FE;\n",
              "      border: none;\n",
              "      border-radius: 50%;\n",
              "      cursor: pointer;\n",
              "      display: none;\n",
              "      fill: #1967D2;\n",
              "      height: 32px;\n",
              "      padding: 0 0 0 0;\n",
              "      width: 32px;\n",
              "    }\n",
              "\n",
              "    .colab-df-convert:hover {\n",
              "      background-color: #E2EBFA;\n",
              "      box-shadow: 0px 1px 2px rgba(60, 64, 67, 0.3), 0px 1px 3px 1px rgba(60, 64, 67, 0.15);\n",
              "      fill: #174EA6;\n",
              "    }\n",
              "\n",
              "    [theme=dark] .colab-df-convert {\n",
              "      background-color: #3B4455;\n",
              "      fill: #D2E3FC;\n",
              "    }\n",
              "\n",
              "    [theme=dark] .colab-df-convert:hover {\n",
              "      background-color: #434B5C;\n",
              "      box-shadow: 0px 1px 3px 1px rgba(0, 0, 0, 0.15);\n",
              "      filter: drop-shadow(0px 1px 2px rgba(0, 0, 0, 0.3));\n",
              "      fill: #FFFFFF;\n",
              "    }\n",
              "  </style>\n",
              "\n",
              "      <script>\n",
              "        const buttonEl =\n",
              "          document.querySelector('#df-40412cd8-fc36-47bb-933b-6ca532100a94 button.colab-df-convert');\n",
              "        buttonEl.style.display =\n",
              "          google.colab.kernel.accessAllowed ? 'block' : 'none';\n",
              "\n",
              "        async function convertToInteractive(key) {\n",
              "          const element = document.querySelector('#df-40412cd8-fc36-47bb-933b-6ca532100a94');\n",
              "          const dataTable =\n",
              "            await google.colab.kernel.invokeFunction('convertToInteractive',\n",
              "                                                     [key], {});\n",
              "          if (!dataTable) return;\n",
              "\n",
              "          const docLinkHtml = 'Like what you see? Visit the ' +\n",
              "            '<a target=\"_blank\" href=https://colab.research.google.com/notebooks/data_table.ipynb>data table notebook</a>'\n",
              "            + ' to learn more about interactive tables.';\n",
              "          element.innerHTML = '';\n",
              "          dataTable['output_type'] = 'display_data';\n",
              "          await google.colab.output.renderOutput(dataTable, element);\n",
              "          const docLink = document.createElement('div');\n",
              "          docLink.innerHTML = docLinkHtml;\n",
              "          element.appendChild(docLink);\n",
              "        }\n",
              "      </script>\n",
              "    </div>\n",
              "  </div>\n",
              "  "
            ]
          },
          "metadata": {},
          "execution_count": 15
        }
      ]
    },
    {
      "cell_type": "code",
      "source": [
        "df_sen.to_csv(\"/content/gdrive/My Drive/2peaks/sen.csv\" )\n",
        "df_ppv.to_csv(\"/content/gdrive/My Drive/2peaks/ppv.csv\" )\n",
        "df_f1.to_csv(\"/content/gdrive/My Drive/2peaks/f1.csv\" )"
      ],
      "metadata": {
        "id": "ksHiJsCnw5NI"
      },
      "execution_count": null,
      "outputs": []
    },
    {
      "cell_type": "code",
      "source": [
        "df_sen = pd.read_csv(\"/content/gdrive/My Drive/3peaks/sen.csv\" )\n",
        "df_ppv = pd.read_csv(\"/content/gdrive/My Drive/3peaks/ppv.csv\" )\n",
        "df_f1 = pd.read_csv(\"/content/gdrive/My Drive/3peaks/f1.csv\" )"
      ],
      "metadata": {
        "id": "wjxOYQc4NFQG"
      },
      "execution_count": null,
      "outputs": []
    },
    {
      "cell_type": "code",
      "source": [
        "df_sen"
      ],
      "metadata": {
        "id": "mQj7k52ONIOw",
        "outputId": "ba8203b0-0a48-409e-c062-2062fbc71c7a",
        "colab": {
          "base_uri": "https://localhost:8080/",
          "height": 1000
        }
      },
      "execution_count": null,
      "outputs": [
        {
          "output_type": "execute_result",
          "data": {
            "text/plain": [
              "    Unnamed: 0  Unnamed: 0.1       ECG1       ECG2\n",
              "0            0       18177.0  99.305146  99.308565\n",
              "1            1       16773.0  72.621705  72.626134\n",
              "2            2       16483.0  99.780987  99.780031\n",
              "3            3       19140.0  99.817509  99.796888\n",
              "4            4       18184.0  99.710726   0.000000\n",
              "5            5       17052.0   0.000000   0.000000\n",
              "6            6       16795.0   0.000000   0.000000\n",
              "7            7       19090.0   0.000000   0.000000\n",
              "8            8       17453.0   0.000000   0.000000\n",
              "9            9       16420.0   0.000000   0.000000\n",
              "10          10       19093.0   0.000000   0.000000\n",
              "11          11       16786.0   0.000000   0.000000\n",
              "12          12       16539.0   0.000000   0.000000\n",
              "13          13       16272.0   0.000000   0.000000\n",
              "14          14       19088.0   0.000000   0.000000\n",
              "15          15       19830.0   0.000000   0.000000\n",
              "16          16       16265.0   0.000000   0.000000\n",
              "17          17       16273.0   0.000000   0.000000\n",
              "18       16483           NaN  99.780987  99.780031\n",
              "19       16539           NaN  99.638365  99.633764\n",
              "20       16773           NaN  72.621705  72.626134\n",
              "21       16786           NaN  99.892862  98.018440\n",
              "22       16795           NaN  99.103528  99.109230\n",
              "23       17052           NaN  99.494324  99.480688\n",
              "24       17453           NaN  99.505792  99.488001\n",
              "25       18177           NaN  99.305146  99.308565\n",
              "26       18184           NaN  99.710726  99.701961\n",
              "27       19088           NaN  84.533293  84.490876\n",
              "28       19090           NaN  99.586343  99.586343\n",
              "29       19093           NaN  89.925779  88.361281\n",
              "30       19140           NaN  99.817509  99.796888\n",
              "31       19830           NaN  99.178516  99.207277"
            ],
            "text/html": [
              "\n",
              "  <div id=\"df-5c102a84-d8bd-4edd-b5b7-623c2a55151b\">\n",
              "    <div class=\"colab-df-container\">\n",
              "      <div>\n",
              "<style scoped>\n",
              "    .dataframe tbody tr th:only-of-type {\n",
              "        vertical-align: middle;\n",
              "    }\n",
              "\n",
              "    .dataframe tbody tr th {\n",
              "        vertical-align: top;\n",
              "    }\n",
              "\n",
              "    .dataframe thead th {\n",
              "        text-align: right;\n",
              "    }\n",
              "</style>\n",
              "<table border=\"1\" class=\"dataframe\">\n",
              "  <thead>\n",
              "    <tr style=\"text-align: right;\">\n",
              "      <th></th>\n",
              "      <th>Unnamed: 0</th>\n",
              "      <th>Unnamed: 0.1</th>\n",
              "      <th>ECG1</th>\n",
              "      <th>ECG2</th>\n",
              "    </tr>\n",
              "  </thead>\n",
              "  <tbody>\n",
              "    <tr>\n",
              "      <th>0</th>\n",
              "      <td>0</td>\n",
              "      <td>18177.0</td>\n",
              "      <td>99.305146</td>\n",
              "      <td>99.308565</td>\n",
              "    </tr>\n",
              "    <tr>\n",
              "      <th>1</th>\n",
              "      <td>1</td>\n",
              "      <td>16773.0</td>\n",
              "      <td>72.621705</td>\n",
              "      <td>72.626134</td>\n",
              "    </tr>\n",
              "    <tr>\n",
              "      <th>2</th>\n",
              "      <td>2</td>\n",
              "      <td>16483.0</td>\n",
              "      <td>99.780987</td>\n",
              "      <td>99.780031</td>\n",
              "    </tr>\n",
              "    <tr>\n",
              "      <th>3</th>\n",
              "      <td>3</td>\n",
              "      <td>19140.0</td>\n",
              "      <td>99.817509</td>\n",
              "      <td>99.796888</td>\n",
              "    </tr>\n",
              "    <tr>\n",
              "      <th>4</th>\n",
              "      <td>4</td>\n",
              "      <td>18184.0</td>\n",
              "      <td>99.710726</td>\n",
              "      <td>0.000000</td>\n",
              "    </tr>\n",
              "    <tr>\n",
              "      <th>5</th>\n",
              "      <td>5</td>\n",
              "      <td>17052.0</td>\n",
              "      <td>0.000000</td>\n",
              "      <td>0.000000</td>\n",
              "    </tr>\n",
              "    <tr>\n",
              "      <th>6</th>\n",
              "      <td>6</td>\n",
              "      <td>16795.0</td>\n",
              "      <td>0.000000</td>\n",
              "      <td>0.000000</td>\n",
              "    </tr>\n",
              "    <tr>\n",
              "      <th>7</th>\n",
              "      <td>7</td>\n",
              "      <td>19090.0</td>\n",
              "      <td>0.000000</td>\n",
              "      <td>0.000000</td>\n",
              "    </tr>\n",
              "    <tr>\n",
              "      <th>8</th>\n",
              "      <td>8</td>\n",
              "      <td>17453.0</td>\n",
              "      <td>0.000000</td>\n",
              "      <td>0.000000</td>\n",
              "    </tr>\n",
              "    <tr>\n",
              "      <th>9</th>\n",
              "      <td>9</td>\n",
              "      <td>16420.0</td>\n",
              "      <td>0.000000</td>\n",
              "      <td>0.000000</td>\n",
              "    </tr>\n",
              "    <tr>\n",
              "      <th>10</th>\n",
              "      <td>10</td>\n",
              "      <td>19093.0</td>\n",
              "      <td>0.000000</td>\n",
              "      <td>0.000000</td>\n",
              "    </tr>\n",
              "    <tr>\n",
              "      <th>11</th>\n",
              "      <td>11</td>\n",
              "      <td>16786.0</td>\n",
              "      <td>0.000000</td>\n",
              "      <td>0.000000</td>\n",
              "    </tr>\n",
              "    <tr>\n",
              "      <th>12</th>\n",
              "      <td>12</td>\n",
              "      <td>16539.0</td>\n",
              "      <td>0.000000</td>\n",
              "      <td>0.000000</td>\n",
              "    </tr>\n",
              "    <tr>\n",
              "      <th>13</th>\n",
              "      <td>13</td>\n",
              "      <td>16272.0</td>\n",
              "      <td>0.000000</td>\n",
              "      <td>0.000000</td>\n",
              "    </tr>\n",
              "    <tr>\n",
              "      <th>14</th>\n",
              "      <td>14</td>\n",
              "      <td>19088.0</td>\n",
              "      <td>0.000000</td>\n",
              "      <td>0.000000</td>\n",
              "    </tr>\n",
              "    <tr>\n",
              "      <th>15</th>\n",
              "      <td>15</td>\n",
              "      <td>19830.0</td>\n",
              "      <td>0.000000</td>\n",
              "      <td>0.000000</td>\n",
              "    </tr>\n",
              "    <tr>\n",
              "      <th>16</th>\n",
              "      <td>16</td>\n",
              "      <td>16265.0</td>\n",
              "      <td>0.000000</td>\n",
              "      <td>0.000000</td>\n",
              "    </tr>\n",
              "    <tr>\n",
              "      <th>17</th>\n",
              "      <td>17</td>\n",
              "      <td>16273.0</td>\n",
              "      <td>0.000000</td>\n",
              "      <td>0.000000</td>\n",
              "    </tr>\n",
              "    <tr>\n",
              "      <th>18</th>\n",
              "      <td>16483</td>\n",
              "      <td>NaN</td>\n",
              "      <td>99.780987</td>\n",
              "      <td>99.780031</td>\n",
              "    </tr>\n",
              "    <tr>\n",
              "      <th>19</th>\n",
              "      <td>16539</td>\n",
              "      <td>NaN</td>\n",
              "      <td>99.638365</td>\n",
              "      <td>99.633764</td>\n",
              "    </tr>\n",
              "    <tr>\n",
              "      <th>20</th>\n",
              "      <td>16773</td>\n",
              "      <td>NaN</td>\n",
              "      <td>72.621705</td>\n",
              "      <td>72.626134</td>\n",
              "    </tr>\n",
              "    <tr>\n",
              "      <th>21</th>\n",
              "      <td>16786</td>\n",
              "      <td>NaN</td>\n",
              "      <td>99.892862</td>\n",
              "      <td>98.018440</td>\n",
              "    </tr>\n",
              "    <tr>\n",
              "      <th>22</th>\n",
              "      <td>16795</td>\n",
              "      <td>NaN</td>\n",
              "      <td>99.103528</td>\n",
              "      <td>99.109230</td>\n",
              "    </tr>\n",
              "    <tr>\n",
              "      <th>23</th>\n",
              "      <td>17052</td>\n",
              "      <td>NaN</td>\n",
              "      <td>99.494324</td>\n",
              "      <td>99.480688</td>\n",
              "    </tr>\n",
              "    <tr>\n",
              "      <th>24</th>\n",
              "      <td>17453</td>\n",
              "      <td>NaN</td>\n",
              "      <td>99.505792</td>\n",
              "      <td>99.488001</td>\n",
              "    </tr>\n",
              "    <tr>\n",
              "      <th>25</th>\n",
              "      <td>18177</td>\n",
              "      <td>NaN</td>\n",
              "      <td>99.305146</td>\n",
              "      <td>99.308565</td>\n",
              "    </tr>\n",
              "    <tr>\n",
              "      <th>26</th>\n",
              "      <td>18184</td>\n",
              "      <td>NaN</td>\n",
              "      <td>99.710726</td>\n",
              "      <td>99.701961</td>\n",
              "    </tr>\n",
              "    <tr>\n",
              "      <th>27</th>\n",
              "      <td>19088</td>\n",
              "      <td>NaN</td>\n",
              "      <td>84.533293</td>\n",
              "      <td>84.490876</td>\n",
              "    </tr>\n",
              "    <tr>\n",
              "      <th>28</th>\n",
              "      <td>19090</td>\n",
              "      <td>NaN</td>\n",
              "      <td>99.586343</td>\n",
              "      <td>99.586343</td>\n",
              "    </tr>\n",
              "    <tr>\n",
              "      <th>29</th>\n",
              "      <td>19093</td>\n",
              "      <td>NaN</td>\n",
              "      <td>89.925779</td>\n",
              "      <td>88.361281</td>\n",
              "    </tr>\n",
              "    <tr>\n",
              "      <th>30</th>\n",
              "      <td>19140</td>\n",
              "      <td>NaN</td>\n",
              "      <td>99.817509</td>\n",
              "      <td>99.796888</td>\n",
              "    </tr>\n",
              "    <tr>\n",
              "      <th>31</th>\n",
              "      <td>19830</td>\n",
              "      <td>NaN</td>\n",
              "      <td>99.178516</td>\n",
              "      <td>99.207277</td>\n",
              "    </tr>\n",
              "  </tbody>\n",
              "</table>\n",
              "</div>\n",
              "      <button class=\"colab-df-convert\" onclick=\"convertToInteractive('df-5c102a84-d8bd-4edd-b5b7-623c2a55151b')\"\n",
              "              title=\"Convert this dataframe to an interactive table.\"\n",
              "              style=\"display:none;\">\n",
              "        \n",
              "  <svg xmlns=\"http://www.w3.org/2000/svg\" height=\"24px\"viewBox=\"0 0 24 24\"\n",
              "       width=\"24px\">\n",
              "    <path d=\"M0 0h24v24H0V0z\" fill=\"none\"/>\n",
              "    <path d=\"M18.56 5.44l.94 2.06.94-2.06 2.06-.94-2.06-.94-.94-2.06-.94 2.06-2.06.94zm-11 1L8.5 8.5l.94-2.06 2.06-.94-2.06-.94L8.5 2.5l-.94 2.06-2.06.94zm10 10l.94 2.06.94-2.06 2.06-.94-2.06-.94-.94-2.06-.94 2.06-2.06.94z\"/><path d=\"M17.41 7.96l-1.37-1.37c-.4-.4-.92-.59-1.43-.59-.52 0-1.04.2-1.43.59L10.3 9.45l-7.72 7.72c-.78.78-.78 2.05 0 2.83L4 21.41c.39.39.9.59 1.41.59.51 0 1.02-.2 1.41-.59l7.78-7.78 2.81-2.81c.8-.78.8-2.07 0-2.86zM5.41 20L4 18.59l7.72-7.72 1.47 1.35L5.41 20z\"/>\n",
              "  </svg>\n",
              "      </button>\n",
              "      \n",
              "  <style>\n",
              "    .colab-df-container {\n",
              "      display:flex;\n",
              "      flex-wrap:wrap;\n",
              "      gap: 12px;\n",
              "    }\n",
              "\n",
              "    .colab-df-convert {\n",
              "      background-color: #E8F0FE;\n",
              "      border: none;\n",
              "      border-radius: 50%;\n",
              "      cursor: pointer;\n",
              "      display: none;\n",
              "      fill: #1967D2;\n",
              "      height: 32px;\n",
              "      padding: 0 0 0 0;\n",
              "      width: 32px;\n",
              "    }\n",
              "\n",
              "    .colab-df-convert:hover {\n",
              "      background-color: #E2EBFA;\n",
              "      box-shadow: 0px 1px 2px rgba(60, 64, 67, 0.3), 0px 1px 3px 1px rgba(60, 64, 67, 0.15);\n",
              "      fill: #174EA6;\n",
              "    }\n",
              "\n",
              "    [theme=dark] .colab-df-convert {\n",
              "      background-color: #3B4455;\n",
              "      fill: #D2E3FC;\n",
              "    }\n",
              "\n",
              "    [theme=dark] .colab-df-convert:hover {\n",
              "      background-color: #434B5C;\n",
              "      box-shadow: 0px 1px 3px 1px rgba(0, 0, 0, 0.15);\n",
              "      filter: drop-shadow(0px 1px 2px rgba(0, 0, 0, 0.3));\n",
              "      fill: #FFFFFF;\n",
              "    }\n",
              "  </style>\n",
              "\n",
              "      <script>\n",
              "        const buttonEl =\n",
              "          document.querySelector('#df-5c102a84-d8bd-4edd-b5b7-623c2a55151b button.colab-df-convert');\n",
              "        buttonEl.style.display =\n",
              "          google.colab.kernel.accessAllowed ? 'block' : 'none';\n",
              "\n",
              "        async function convertToInteractive(key) {\n",
              "          const element = document.querySelector('#df-5c102a84-d8bd-4edd-b5b7-623c2a55151b');\n",
              "          const dataTable =\n",
              "            await google.colab.kernel.invokeFunction('convertToInteractive',\n",
              "                                                     [key], {});\n",
              "          if (!dataTable) return;\n",
              "\n",
              "          const docLinkHtml = 'Like what you see? Visit the ' +\n",
              "            '<a target=\"_blank\" href=https://colab.research.google.com/notebooks/data_table.ipynb>data table notebook</a>'\n",
              "            + ' to learn more about interactive tables.';\n",
              "          element.innerHTML = '';\n",
              "          dataTable['output_type'] = 'display_data';\n",
              "          await google.colab.output.renderOutput(dataTable, element);\n",
              "          const docLink = document.createElement('div');\n",
              "          docLink.innerHTML = docLinkHtml;\n",
              "          element.appendChild(docLink);\n",
              "        }\n",
              "      </script>\n",
              "    </div>\n",
              "  </div>\n",
              "  "
            ]
          },
          "metadata": {},
          "execution_count": 4
        }
      ]
    },
    {
      "cell_type": "code",
      "source": [
        "np.average(df_sen['ECG1']), np.average(df_ppv['ECG1']), np.average(df_f1[ 'ECG1'])"
      ],
      "metadata": {
        "id": "seWHCF6AnvGV",
        "outputId": "e3a49e23-9e2a-4b49-c063-e51cd1137934",
        "colab": {
          "base_uri": "https://localhost:8080/"
        }
      },
      "execution_count": null,
      "outputs": [
        {
          "output_type": "execute_result",
          "data": {
            "text/plain": [
              "(91.70034828436637, 99.864941706209, 94.1523959953412)"
            ]
          },
          "metadata": {},
          "execution_count": 39
        }
      ]
    },
    {
      "cell_type": "code",
      "source": [
        "np.average(df_sen['ECG2']), np.average(df_ppv['ECG2']), np.average(df_f1[ 'ECG2'])"
      ],
      "metadata": {
        "id": "GYK9wpUHocrw",
        "outputId": "12e020b4-d88b-4171-9463-347a1a90bdee",
        "colab": {
          "base_uri": "https://localhost:8080/"
        }
      },
      "execution_count": null,
      "outputs": [
        {
          "output_type": "execute_result",
          "data": {
            "text/plain": [
              "(91.70034828436637, 99.864941706209, 94.1523959953412)"
            ]
          },
          "metadata": {},
          "execution_count": 40
        }
      ]
    },
    {
      "cell_type": "code",
      "execution_count": null,
      "metadata": {
        "id": "weNOd6jwR6ZY"
      },
      "outputs": [],
      "source": [
        "def to_float(arr):\n",
        "    ret = []\n",
        "    for x in arr:\n",
        "        ret.append(float(x[0:-1]))\n",
        "    return ret "
      ]
    },
    {
      "cell_type": "code",
      "execution_count": null,
      "metadata": {
        "id": "CD9itEcYR6ZY",
        "outputId": "429d50d9-0bb0-48b8-be36-c4cb6e941a2e",
        "colab": {
          "base_uri": "https://localhost:8080/",
          "height": 453
        }
      },
      "outputs": [
        {
          "output_type": "display_data",
          "data": {
            "text/plain": [
              "Using categorical units to plot a list of strings that are all parsable as floats or dates. If these strings should be plotted as numbers, cast to the appropriate data type before plotting.\n"
            ],
            "text/html": [
              "<pre style=\"white-space:pre;overflow-x:auto;line-height:normal;font-family:Menlo,'DejaVu Sans Mono',consolas,'Courier New',monospace\">Using categorical units to plot a list of strings that are all parsable as floats or dates. If these strings should be plotted as numbers, cast to the appropriate data type before plotting.\n",
              "</pre>\n"
            ]
          },
          "metadata": {}
        },
        {
          "output_type": "display_data",
          "data": {
            "text/plain": [
              "Using categorical units to plot a list of strings that are all parsable as floats or dates. If these strings should be plotted as numbers, cast to the appropriate data type before plotting.\n"
            ],
            "text/html": [
              "<pre style=\"white-space:pre;overflow-x:auto;line-height:normal;font-family:Menlo,'DejaVu Sans Mono',consolas,'Courier New',monospace\">Using categorical units to plot a list of strings that are all parsable as floats or dates. If these strings should be plotted as numbers, cast to the appropriate data type before plotting.\n",
              "</pre>\n"
            ]
          },
          "metadata": {}
        },
        {
          "output_type": "display_data",
          "data": {
            "text/plain": [
              "Using categorical units to plot a list of strings that are all parsable as floats or dates. If these strings should be plotted as numbers, cast to the appropriate data type before plotting.\n"
            ],
            "text/html": [
              "<pre style=\"white-space:pre;overflow-x:auto;line-height:normal;font-family:Menlo,'DejaVu Sans Mono',consolas,'Courier New',monospace\">Using categorical units to plot a list of strings that are all parsable as floats or dates. If these strings should be plotted as numbers, cast to the appropriate data type before plotting.\n",
              "</pre>\n"
            ]
          },
          "metadata": {}
        },
        {
          "output_type": "display_data",
          "data": {
            "text/plain": [
              "Using categorical units to plot a list of strings that are all parsable as floats or dates. If these strings should be plotted as numbers, cast to the appropriate data type before plotting.\n"
            ],
            "text/html": [
              "<pre style=\"white-space:pre;overflow-x:auto;line-height:normal;font-family:Menlo,'DejaVu Sans Mono',consolas,'Courier New',monospace\">Using categorical units to plot a list of strings that are all parsable as floats or dates. If these strings should be plotted as numbers, cast to the appropriate data type before plotting.\n",
              "</pre>\n"
            ]
          },
          "metadata": {}
        },
        {
          "output_type": "display_data",
          "data": {
            "text/plain": [
              "Using categorical units to plot a list of strings that are all parsable as floats or dates. If these strings should be plotted as numbers, cast to the appropriate data type before plotting.\n"
            ],
            "text/html": [
              "<pre style=\"white-space:pre;overflow-x:auto;line-height:normal;font-family:Menlo,'DejaVu Sans Mono',consolas,'Courier New',monospace\">Using categorical units to plot a list of strings that are all parsable as floats or dates. If these strings should be plotted as numbers, cast to the appropriate data type before plotting.\n",
              "</pre>\n"
            ]
          },
          "metadata": {}
        },
        {
          "output_type": "display_data",
          "data": {
            "text/plain": [
              "Using categorical units to plot a list of strings that are all parsable as floats or dates. If these strings should be plotted as numbers, cast to the appropriate data type before plotting.\n"
            ],
            "text/html": [
              "<pre style=\"white-space:pre;overflow-x:auto;line-height:normal;font-family:Menlo,'DejaVu Sans Mono',consolas,'Courier New',monospace\">Using categorical units to plot a list of strings that are all parsable as floats or dates. If these strings should be plotted as numbers, cast to the appropriate data type before plotting.\n",
              "</pre>\n"
            ]
          },
          "metadata": {}
        },
        {
          "output_type": "execute_result",
          "data": {
            "text/plain": [
              "<matplotlib.legend.Legend at 0x7fc8553361c0>"
            ]
          },
          "metadata": {},
          "execution_count": 41
        },
        {
          "output_type": "display_data",
          "data": {
            "text/plain": [
              "<Figure size 1080x360 with 1 Axes>"
            ],
            "image/png": "[encoded data removed]"
          },
          "metadata": {
            "needs_background": "light"
          }
        }
      ],
      "source": [
        "plt.figure(figsize=(15,5))\n",
        "plt.xlabel('Sample ID')\n",
        "plt.ylabel('Percentage')\n",
        "\n",
        "plt.plot(sample_ids, df_sen['ECG1'], label='Sensitivity', marker='o', linestyle='--')\n",
        "plt.plot(sample_ids, df_ppv['ECG1'], label='PPV', marker='o', linestyle='--')\n",
        "plt.plot(sample_ids, df_f1[ 'ECG1'], label='F1', marker='o', linestyle='--')\n",
        "\n",
        "plt.legend()"
      ]
    },
    {
      "cell_type": "code",
      "execution_count": null,
      "metadata": {
        "id": "SHE7WpnlR6ZY",
        "outputId": "fef61dc8-aa07-4224-c7f9-90f0e9081d7e"
      },
      "outputs": [
        {
          "data": {
            "text/plain": [
              "(88.70252930995336, 94.52263293614219, 90.48624490723604)"
            ]
          },
          "execution_count": 43,
          "metadata": {},
          "output_type": "execute_result"
        }
      ],
      "source": [
        "np.average(to_float(sensitivity)), np.average(to_float(ppv)), np.average(to_float(f1))"
      ]
    }
  ],
  "metadata": {
    "kernelspec": {
      "display_name": "base",
      "language": "python",
      "name": "python3"
    },
    "language_info": {
      "codemirror_mode": {
        "name": "ipython",
        "version": 3
      },
      "file_extension": ".py",
      "mimetype": "text/x-python",
      "name": "python",
      "nbconvert_exporter": "python",
      "pygments_lexer": "ipython3",
      "version": "3.9.7"
    },
    "orig_nbformat": 4,
    "vscode": {
      "interpreter": {
        "hash": "51480fad90fe9d21f60dbdf1474e71297e9cf7d519346d7c8ab062a40f50e1c0"
      }
    },
    "colab": {
      "provenance": [],
      "collapsed_sections": [
        "fRjCYnF-R6ZS",
        "h5IcQzxER6ZV",
        "k2eru3swWXMG"
      ],
      "include_colab_link": true
    }
  },
  "nbformat": 4,
  "nbformat_minor": 0
}