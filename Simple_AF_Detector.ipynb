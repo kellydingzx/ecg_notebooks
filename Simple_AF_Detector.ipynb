{
  "nbformat": 4,
  "nbformat_minor": 0,
  "metadata": {
    "colab": {
      "provenance": [],
      "collapsed_sections": [
        "AwCm2218R8XH",
        "uV_HTgQQSc-k"
      ],
      "authorship_tag": "ABX9TyPUBTSrHy4yBJA7QsHOmx99",
      "include_colab_link": true
    },
    "kernelspec": {
      "name": "python3",
      "display_name": "Python 3"
    },
    "language_info": {
      "name": "python"
    }
  },
  "cells": [
    {
      "cell_type": "markdown",
      "metadata": {
        "id": "view-in-github",
        "colab_type": "text"
      },
      "source": [
        "<a href=\"https://colab.research.google.com/github/kellydingzx/ecg_notebooks/blob/main/Simple_AF_Detector.ipynb\" target=\"_parent\"><img src=\"https://colab.research.google.com/assets/colab-badge.svg\" alt=\"Open In Colab\"/></a>"
      ]
    },
    {
      "cell_type": "markdown",
      "source": [
        "## Download databases and Import libraries"
      ],
      "metadata": {
        "id": "AwCm2218R8XH"
      }
    },
    {
      "cell_type": "code",
      "source": [
        "! wget -r -N -c -np https://physionet.org/files/mitdb/1.0.0/"
      ],
      "metadata": {
        "id": "lmWCuw9P0wjC"
      },
      "execution_count": null,
      "outputs": []
    },
    {
      "cell_type": "code",
      "execution_count": null,
      "metadata": {
        "id": "pGatvVHhQ7hf"
      },
      "outputs": [],
      "source": [
        "! wget -r -N -c -np https://physionet.org/files/nsrdb/1.0.0/\n",
        "! wget -r -N -c -np https://physionet.org/files/afdb/1.0.0/"
      ]
    },
    {
      "cell_type": "code",
      "source": [
        "import pip\n",
        "import os\n",
        "\n",
        "try:\n",
        "    import wfdb\n",
        "except ModuleNotFoundError:\n",
        "    pip.main(['install', \"wfdb\"])\n",
        "    import wfdb\n",
        "\n",
        "import numpy as np\n",
        "import matplotlib.pyplot as plt "
      ],
      "metadata": {
        "id": "jqK654OlSGXR"
      },
      "execution_count": null,
      "outputs": []
    },
    {
      "cell_type": "code",
      "source": [
        "! pip install neurokit2"
      ],
      "metadata": {
        "id": "LXsSinbGSYJw"
      },
      "execution_count": null,
      "outputs": []
    },
    {
      "cell_type": "code",
      "source": [
        "from google.colab import drive\n",
        "drive.mount('/content/gdrive')"
      ],
      "metadata": {
        "colab": {
          "base_uri": "https://localhost:8080/"
        },
        "id": "OzTCW9C3Fy5H",
        "outputId": "e1194e5a-14ff-40a8-dc58-6db68ac3d8ad"
      },
      "execution_count": 12,
      "outputs": [
        {
          "output_type": "stream",
          "name": "stdout",
          "text": [
            "Mounted at /content/gdrive\n"
          ]
        }
      ]
    },
    {
      "cell_type": "markdown",
      "source": [
        "## Functions"
      ],
      "metadata": {
        "id": "uV_HTgQQSc-k"
      }
    },
    {
      "cell_type": "code",
      "source": [
        "# def get_peaks(sample_path, leads, fs):\n",
        "#     signal, rest = wfdb.rdsamp(sample_path, sampfrom=0, sampto=60*60*fs*2, \n",
        "#                                 channel_names = leads)\n",
        "#     cleaned = nk2.ecg_clean(signal, fs, method='neurokit2')\n",
        "#     signals, info = nk2.ecg_peaks(cleaned, fs, method='neurokit2')\n",
        "\n",
        "#     return info[\"ECG_R_Peaks\"]\n",
        "def get_peaks(sample_path, leads, fs):\n",
        "    annots = wfdb.rdann(sample_path, 'atr', sampfrom=0, sampto=None)\n",
        "\n",
        "    return annots.sample \n",
        "\n",
        "def get_rr_drr(peaks, fs):\n",
        "    rr_intervals = np.diff(peaks)\n",
        "    rr_intervals = np.divide(rr_intervals, fs)\n",
        "    d_rr = np.diff(rr_intervals)\n",
        "\n",
        "    return rr_intervals[1:], d_rr"
      ],
      "metadata": {
        "id": "PZSBd64WSfwb"
      },
      "execution_count": 135,
      "outputs": []
    },
    {
      "cell_type": "code",
      "source": [
        "def get_nec(plot_x, plot_y):\n",
        "    x_min, x_max = min(plot_x), max(plot_x)\n",
        "    y_min, y_max = min(plot_y), max(plot_y)\n",
        "\n",
        "    x_min = 200 if x_min<200 else x_min\n",
        "    y_min = -1000 if y_min<-1000 else y_min\n",
        "    x_max = 2000 if x_max>2000 else x_max\n",
        "    y_max = 2000 if y_max>2000 else y_max\n",
        "\n",
        "    x_start, x_fin = (x_min//25-1)*25 , (x_max//25+1)*25\n",
        "    y_start, y_fin = (y_min//25-1)*25, (y_max//25+1)*25\n",
        "\n",
        "        \n",
        "    nec = 0\n",
        "    for x_i in range(int(x_start), int(x_fin), 25):\n",
        "        for y_i in range(int(y_start), int(y_fin), 25):\n",
        "          if np.any((plot_x >= x_i) & (plot_x < x_i + 25) & \n",
        "                  (plot_y >= y_i) & (plot_y < y_i + 25)):\n",
        "            nec += 1\n",
        "            # x_ind = np.where(np.logical_and(plot_x>=x_i, plot_x<x_i+25))[0]\n",
        "            # y_ind = np.where(np.logical_and(plot_y>=y_i, plot_y<y_i+25))[0]\n",
        "            # in_box = np.intersect1d(x_ind, y_ind)\n",
        "            # if len(in_box)>0: nec+=1\n",
        "    \n",
        "    return nec"
      ],
      "metadata": {
        "id": "AQpg5hAfSsZo"
      },
      "execution_count": 136,
      "outputs": []
    },
    {
      "cell_type": "code",
      "source": [
        "def full_nec(example_path, leads, fs, window_size):\n",
        "\n",
        "    peak_idx = get_peaks(example_path, leads, fs)\n",
        "    annots = wfdb.rdann(example_path, 'atr', sampfrom=0, sampto=None)\n",
        "    af_idx = []\n",
        "    for i in range(len(annots.sample)):\n",
        "      if annots.symbol[i] != 'N':\n",
        "        af_idx.append(annots.sample[i])\n",
        "\n",
        "    # print(len(af_idx), len(annots.sample))\n",
        "    nec_records = {}\n",
        "    for i in range(0, len(peak_idx)-window_size, window_size+1):\n",
        "        peak_chosen = peak_idx[i:i+window_size+1]\n",
        "        rr, drr = get_rr_drr(peak_chosen, fs)\n",
        "        plot_x = rr*1000\n",
        "        plot_y = drr*1000\n",
        "        nec = get_nec(plot_x, plot_y)\n",
        "        segment = (peak_chosen[0], peak_chosen[-1])\n",
        "        nec_records[segment] = nec\n",
        "    \n",
        "    return nec_records, af_idx"
      ],
      "metadata": {
        "id": "eC6fJBy_St8y"
      },
      "execution_count": 168,
      "outputs": []
    },
    {
      "cell_type": "code",
      "source": [
        "def get_nsr(nec_records, opti):\n",
        "   counts = 0\n",
        "   for seg, nec in nec_records.items():\n",
        "     if nec > opti:\n",
        "       counts += 1\n",
        "   return counts/len(nec_records)"
      ],
      "metadata": {
        "id": "9XtjN5ntSvj1"
      },
      "execution_count": 138,
      "outputs": []
    },
    {
      "cell_type": "code",
      "source": [
        "def get_results(nec_records, af_idx, opti):\n",
        "    true_pos, true_neg, false_pos, false_neg = 0,0,0,0\n",
        "    for seg, nec in nec_records.items():\n",
        "        found = np.where(np.logical_and(af_idx>seg[0],af_idx<seg[1]))[0]\n",
        "        if nec > opti and len(found) != 0:\n",
        "            true_pos += 1\n",
        "        elif nec <opti and len(found) == 0:\n",
        "            true_neg +=1\n",
        "        elif nec<opti and len(found)!=0:\n",
        "            false_neg +=1\n",
        "        elif nec>opti and len(found) == 0:\n",
        "            false_pos +=1\n",
        "    return true_pos, true_neg, false_pos, false_neg"
      ],
      "metadata": {
        "id": "DUk_dpkpSxaz"
      },
      "execution_count": 179,
      "outputs": []
    },
    {
      "cell_type": "code",
      "source": [
        "def get_stats(true_pos, true_neg, false_pos, false_neg):\n",
        "    sensitivity = None if true_pos+false_neg == 0 else true_pos/(true_pos+false_neg)\n",
        "    specificity = None if true_neg+false_pos == 0 else true_neg/(true_neg+false_pos)\n",
        "    # ppv = true_pos/(true_pos+false_pos)\n",
        "    # f1 = None if sensitivity == None or ppv==0 else 2*ppv*sensitivity/(ppv+sensitivity)\n",
        "    return sensitivity, specificity"
      ],
      "metadata": {
        "id": "fNQufH4dSziF"
      },
      "execution_count": 172,
      "outputs": []
    },
    {
      "cell_type": "code",
      "source": [
        "def af_analyse(nec_records, af_idx, window_size, opti):\n",
        "    tp, tn, fp, fn = get_results(nec_records, af_idx, opti)\n",
        "    sen, spe = get_stats(tp, tn, fp, fn)\n",
        "    return sen, spe"
      ],
      "metadata": {
        "id": "SVHWpbo9S1PF"
      },
      "execution_count": 141,
      "outputs": []
    },
    {
      "cell_type": "code",
      "source": [
        "def nsr_analyse(example_path, leads, fs, window_size, opti):\n",
        "    nec_records, _ = full_nec(example_path, leads, fs, window_size)\n",
        "    counts = get_nsr(nec_records, opti)\n",
        "    return counts"
      ],
      "metadata": {
        "id": "9Rs8zsQ_S29b"
      },
      "execution_count": 142,
      "outputs": []
    },
    {
      "cell_type": "markdown",
      "source": [
        "## Tests"
      ],
      "metadata": {
        "id": "3eZpFA7MT_53"
      }
    },
    {
      "cell_type": "code",
      "source": [
        "#  true_pos, true_neg, false_pos, false_neg"
      ],
      "metadata": {
        "id": "61-EOKulH8NF"
      },
      "execution_count": null,
      "outputs": []
    },
    {
      "cell_type": "code",
      "source": [
        "model_save_name = str(106)+'-'+'ECG1'+'-'+str(32)+'.npz'\n",
        "path = F\"/content/gdrive/My Drive/1 nec/{model_save_name}\" \n",
        "saved = np.load(path, allow_pickle=True)\n",
        "nec = saved['nec'].item()\n",
        "af = saved['af']\n",
        "for i in range(10, 30):\n",
        "  a, b, c, d = get_results(nec, af, i)\n",
        "  print(get_stats(a, b, c, d))"
      ],
      "metadata": {
        "colab": {
          "base_uri": "https://localhost:8080/"
        },
        "id": "qvXacjJ8G9cv",
        "outputId": "a1900bd0-a437-44e9-afec-061ef192427a"
      },
      "execution_count": 195,
      "outputs": [
        {
          "output_type": "stream",
          "name": "stdout",
          "text": [
            "(1.0, 0.0)\n",
            "(1.0, 0.0)\n",
            "(1.0, 0.0)\n",
            "(1.0, 0.0)\n",
            "(1.0, 0.0)\n",
            "(1.0, 0.0)\n",
            "(1.0, 0.0)\n",
            "(0.9795918367346939, 0.0)\n",
            "(0.96, 0.0)\n",
            "(0.9591836734693877, 0.0)\n",
            "(0.9387755102040817, 0.0)\n",
            "(0.9183673469387755, 0.0)\n",
            "(0.8936170212765957, 0.0)\n",
            "(0.8222222222222222, 0.0)\n",
            "(0.7291666666666666, 0.15384615384615385)\n",
            "(0.6938775510204082, 0.16666666666666666)\n",
            "(0.6363636363636364, 0.2727272727272727)\n",
            "(0.5217391304347826, 0.45454545454545453)\n",
            "(0.3953488372093023, 0.7)\n",
            "(0.26666666666666666, 1.0)\n"
          ]
        }
      ]
    },
    {
      "cell_type": "code",
      "source": [
        "paths = '/content/physionet.org/files/mitdb/1.0.0/100'\n",
        "annots = wfdb.rdann(paths, 'atr', sampfrom=0, sampto=None)"
      ],
      "metadata": {
        "id": "nJy0q-dFUCCh"
      },
      "execution_count": 146,
      "outputs": []
    },
    {
      "cell_type": "code",
      "source": [
        "x = annots.symbol\n",
        "x"
      ],
      "metadata": {
        "id": "w_dhm6AfWQED"
      },
      "execution_count": null,
      "outputs": []
    },
    {
      "cell_type": "code",
      "source": [
        "import os\n",
        "arr = os.listdir('/content/physionet.org/files/mitdb/1.0.0/')\n",
        "\n",
        "sample_ids = []\n",
        "for file in arr:\n",
        "    if '.atr' in file:\n",
        "      current_id = int(file[:3])\n",
        "      if current_id not in sample_ids:\n",
        "        sample_ids.append(current_id)\n",
        "sample_ids.sort()\n",
        "\n",
        "# sample_ids.remove(int('03665'))\n",
        "# sample_ids.remove(int('00735'))\n",
        "# sample_ids.remove(int('04043'))\n",
        "\n",
        "all_ids = list(set(sample_ids)) "
      ],
      "metadata": {
        "id": "Bny4klF-X9Yl"
      },
      "execution_count": 143,
      "outputs": []
    },
    {
      "cell_type": "code",
      "source": [
        "result = {}\n",
        "\n",
        "for win in [32, 64, 128]:\n",
        "  for lead in ['ECG1', 'ECG2']:\n",
        "    nec = []\n",
        "    for id in all_ids:\n",
        "      str_id = str(id)\n",
        "      # if len(str_id)<5:\n",
        "      #   str_id = '0'*(5-len(str_id)) + str_id\n",
        "  \n",
        "      nec, af = full_nec('/content/physionet.org/files/mitdb/1.0.0/'+str_id, [lead], 250, win)\n",
        "      model_save_name = str(id)+'-'+lead+'-'+str(win)+'.npz'\n",
        "      path = F\"/content/gdrive/My Drive/1 nec/{model_save_name}\" \n",
        "      np.savez(path, nec=nec, af=af)"
      ],
      "metadata": {
        "id": "V00bTrCUYERa"
      },
      "execution_count": 169,
      "outputs": []
    },
    {
      "cell_type": "code",
      "source": [
        "import pandas as pd"
      ],
      "metadata": {
        "id": "DcBP7EfbKztV"
      },
      "execution_count": 170,
      "outputs": []
    },
    {
      "cell_type": "code",
      "source": [
        "df_sen = pd.DataFrame(0.0, index=range(1, 128), columns=[32, 64, 128])\n",
        "df_spe = pd.DataFrame(0.0, index=range(1, 128), columns=[32, 64, 128])\n",
        "\n",
        "for win in [32, 64, 128]:\n",
        "  for opti in range(1, win):\n",
        "    sens = []\n",
        "    spes = []\n",
        "    for id in all_ids:\n",
        "      for lead in ['ECG1', 'ECG2']:\n",
        "        model_save_name = str(id)+'-'+lead+'-'+str(win)+'.npz'\n",
        "        path = F\"/content/gdrive/My Drive/1 nec/{model_save_name}\" \n",
        "        saved = np.load(path, allow_pickle=True)\n",
        "        nec = saved['nec'].item()\n",
        "        af = saved['af']\n",
        "  \n",
        "        sen, spe = af_analyse(nec, af, win, opti)\n",
        "        if sen == None or spe == None:\n",
        "          break\n",
        "        sens.append(sen)\n",
        "        spes.append(spe)\n",
        "    print((np.mean(sens), np.mean(spes)))\n",
        "    df_sen.loc[opti, win] = np.mean(sens)\n",
        "    df_spe.loc[opti, win] = np.mean(spes)\n",
        "      "
      ],
      "metadata": {
        "colab": {
          "base_uri": "https://localhost:8080/"
        },
        "id": "zga9H4aNbCZJ",
        "outputId": "1f606ae0-08c1-4fca-8cbb-e17b8c4d8c8a"
      },
      "execution_count": 173,
      "outputs": [
        {
          "output_type": "stream",
          "name": "stdout",
          "text": [
            "(1.0, 0.0)\n",
            "(1.0, 0.0)\n",
            "(1.0, 0.0)\n",
            "(1.0, 0.0)\n",
            "(1.0, 0.0)\n",
            "(1.0, 0.0)\n",
            "(1.0, 0.0004608294930875576)\n",
            "(0.999624060150376, 0.009038769785614105)\n",
            "(0.9996190476190475, 0.026933944709649847)\n",
            "(0.9985578231292518, 0.06690694031907236)\n",
            "(0.9913748107938828, 0.10604446767386261)\n",
            "(0.9772238699487774, 0.12860275239144192)\n",
            "(0.9612314176811262, 0.16220583930737173)\n",
            "(0.9405531720886829, 0.17965437748869204)\n",
            "(0.9164312884603565, 0.19983538394309486)\n",
            "(0.8970425782779605, 0.23293188092101136)\n",
            "(0.8577445404912662, 0.27555688638902415)\n",
            "(0.813158300102607, 0.3224777913359228)\n",
            "(0.7907193591379654, 0.3985807364876465)\n",
            "(0.7652016353397755, 0.44119664675871945)\n",
            "(0.7196899120780611, 0.46774866786576175)\n",
            "(0.662137510975407, 0.4926004785190375)\n",
            "(0.6115201660914663, 0.5241477748154767)\n",
            "(0.5653311221620402, 0.552858165411605)\n",
            "(0.5012332595139367, 0.5869970724823342)\n",
            "(0.45488045290355683, 0.6138556599724767)\n",
            "(0.3960071162529, 0.6463287161167423)\n",
            "(0.30121897753868687, 0.6968408666708763)\n",
            "(0.19861071556578958, 0.7753845282219596)\n",
            "(0.11316582448998205, 0.8741663009289736)\n",
            "(0.0, 1.0)\n",
            "(1.0, 0.0)\n",
            "(1.0, 0.0)\n",
            "(1.0, 0.0)\n",
            "(1.0, 0.0)\n",
            "(1.0, 0.0)\n",
            "(1.0, 0.0)\n",
            "(1.0, 0.0)\n",
            "(1.0, 0.0)\n",
            "(1.0, 0.001984126984126984)\n",
            "(1.0, 0.009398496240601503)\n",
            "(1.0, 0.02837941628264209)\n",
            "(1.0, 0.07336545729402873)\n",
            "(0.9931547619047619, 0.09722435569209763)\n",
            "(0.9847310912445012, 0.13319941778547442)\n",
            "(0.9751603112175103, 0.18412523856072244)\n",
            "(0.9595425670268108, 0.19991775010247917)\n",
            "(0.9439173396631381, 0.21497887033601318)\n",
            "(0.9371643506114624, 0.23039168013246353)\n",
            "(0.9326434073966968, 0.23834164347557205)\n",
            "(0.9222489029052996, 0.24988146773861059)\n",
            "(0.8987267503435749, 0.2638862363127069)\n",
            "(0.8787195389993999, 0.2993636050911593)\n",
            "(0.8512250196849627, 0.3198334377610693)\n",
            "(0.8365890498996702, 0.3479281265935401)\n",
            "(0.8200423240848236, 0.360110391844138)\n",
            "(0.7951531527974581, 0.4269483231889247)\n",
            "(0.7750124972489775, 0.43231071105905244)\n",
            "(0.7649229967980337, 0.44121427248362227)\n",
            "(0.7259075948476137, 0.46514082625193737)\n",
            "(0.704042223821651, 0.49908016091051804)\n",
            "(0.6897143348658105, 0.5043498168498168)\n",
            "(0.6631370940998271, 0.5314849624060151)\n",
            "(0.6370868215034852, 0.547108843537415)\n",
            "(0.6156172260133835, 0.5625)\n",
            "(0.5923606635040015, 0.5741667085774637)\n",
            "(0.5755239515045155, 0.5842490842490842)\n",
            "(0.540526292634765, 0.5867746288798921)\n",
            "(0.5213357427335813, 0.5973714047022317)\n",
            "(0.509262363462124, 0.6160079582072063)\n",
            "(0.4875971157587657, 0.6238344988344989)\n",
            "(0.45835652296044216, 0.6302798392084107)\n",
            "(0.44556345235219386, 0.6459183673469387)\n",
            "(0.4264656677370548, 0.6539509488005729)\n",
            "(0.4144059518537398, 0.65466378859236)\n",
            "(0.39899068428632706, 0.6720238095238095)\n",
            "(0.3643126182009104, 0.6774973147153599)\n",
            "(0.3465138239218876, 0.6860119047619048)\n",
            "(0.33183996130487614, 0.6928793256433009)\n",
            "(0.31690152060877935, 0.7210204081632653)\n",
            "(0.28141712927329576, 0.7339544513457555)\n",
            "(0.25708745471995487, 0.7463435374149661)\n",
            "(0.23054579165690275, 0.7866928736067698)\n",
            "(0.21715116191798292, 0.8181210602263234)\n",
            "(0.1937886373434254, 0.827891156462585)\n",
            "(0.1634482718799489, 0.8538904078377764)\n",
            "(0.13269807299979713, 0.8668822405664512)\n",
            "(0.10508588330224387, 0.8772673662766542)\n",
            "(0.07613172371236887, 0.8883477633477633)\n",
            "(0.058105518364139054, 0.8997039724980901)\n",
            "(0.03443555008210181, 0.9386278753925813)\n",
            "(0.01432806324110672, 0.9637445887445887)\n",
            "(0.004300047778308648, 0.9910714285714286)\n",
            "(0.0, 1.0)\n",
            "(1.0, 0.0)\n",
            "(1.0, 0.0)\n",
            "(1.0, 0.0)\n",
            "(1.0, 0.0)\n",
            "(1.0, 0.0)\n",
            "(1.0, 0.0)\n",
            "(1.0, 0.0)\n",
            "(1.0, 0.0)\n",
            "(1.0, 0.0)\n",
            "(1.0, 0.0)\n",
            "(1.0, 0.016666666666666666)\n",
            "(1.0, 0.016666666666666666)\n",
            "(1.0, 0.020833333333333332)\n",
            "(1.0, 0.03993375046006625)\n",
            "(1.0, 0.11487179487179486)\n",
            "(0.9962406015037595, 0.13866396761133604)\n",
            "(0.9932126696832579, 0.19666666666666668)\n",
            "(0.9824754901960784, 0.21174242424242426)\n",
            "(0.9754242081447965, 0.22243589743589745)\n",
            "(0.9706851971557853, 0.23782051282051286)\n",
            "(0.948844537815126, 0.24666666666666667)\n",
            "(0.9427319004524886, 0.25)\n",
            "(0.938701923076923, 0.25)\n",
            "(0.9339285714285716, 0.25)\n",
            "(0.9217717086834736, 0.25625)\n",
            "(0.9155217086834735, 0.2602678571428571)\n",
            "(0.9108193277310924, 0.27053571428571427)\n",
            "(0.8958333333333333, 0.28080357142857143)\n",
            "(0.872079831932773, 0.2903361344537815)\n",
            "(0.8558333333333333, 0.29301470588235295)\n",
            "(0.8188095238095237, 0.29375)\n",
            "(0.8140178571428571, 0.2959558823529412)\n",
            "(0.8002310924369749, 0.3079365079365079)\n",
            "(0.7948739495798319, 0.3190009337068161)\n",
            "(0.7939810924369748, 0.3211805555555555)\n",
            "(0.7867261904761905, 0.32666666666666666)\n",
            "(0.7845273109243698, 0.33819444444444446)\n",
            "(0.7804796918767508, 0.3480357142857143)\n",
            "(0.7718452380952381, 0.3571486928104575)\n",
            "(0.7643242296918767, 0.38472222222222224)\n",
            "(0.75015756302521, 0.3940972222222222)\n",
            "(0.7487289915966386, 0.3970588235294118)\n",
            "(0.7384908963585435, 0.4027777777777778)\n",
            "(0.7230082417582417, 0.40902777777777777)\n",
            "(0.713422619047619, 0.4177777777777777)\n",
            "(0.7077442900237018, 0.4444444444444445)\n",
            "(0.6696673669467786, 0.45125000000000004)\n",
            "(0.663000700280112, 0.4533333333333333)\n",
            "(0.6285562558356675, 0.4533333333333333)\n",
            "(0.618977501256913, 0.4575)\n",
            "(0.612484827264239, 0.46375)\n",
            "(0.5912345910023928, 0.4970760233918129)\n",
            "(0.5996276844070961, 0.5482142857142858)\n",
            "(0.5989133986928105, 0.5525)\n",
            "(0.5902012774806892, 0.5596428571428571)\n",
            "(0.5764133986928105, 0.5652777777777779)\n",
            "(0.5677579365079366, 0.5809523809523809)\n",
            "(0.5602801855007737, 0.5892857142857142)\n",
            "(0.5436111111111112, 0.5916666666666666)\n",
            "(0.5398015873015873, 0.6)\n",
            "(0.5394747899159664, 0.6035714285714285)\n",
            "(0.5329621848739496, 0.6166666666666666)\n",
            "(0.5242460317460317, 0.6232142857142857)\n",
            "(0.5140079365079365, 0.6232142857142857)\n",
            "(0.5106746031746031, 0.6232142857142857)\n",
            "(0.4803174603174603, 0.6357142857142858)\n",
            "(0.44942577030812325, 0.6357142857142858)\n",
            "(0.4392460317460317, 0.6357142857142858)\n",
            "(0.4336904761904762, 0.6357142857142858)\n",
            "(0.42813492063492065, 0.6357142857142858)\n",
            "(0.41646825396825393, 0.6416666666666667)\n",
            "(0.4056323211102623, 0.6553571428571429)\n",
            "(0.3993154761904762, 0.6553571428571429)\n",
            "(0.3935705266955267, 0.6553571428571429)\n",
            "(0.3706074929971989, 0.6625)\n",
            "(0.3648091736694678, 0.6625)\n",
            "(0.356359126984127, 0.6625)\n",
            "(0.3530257936507937, 0.6666666666666666)\n",
            "(0.3511507936507937, 0.675)\n",
            "(0.34823412698412703, 0.675)\n",
            "(0.34823412698412703, 0.675)\n",
            "(0.34122023809523816, 0.675)\n",
            "(0.3384751400560224, 0.6795454545454545)\n",
            "(0.3328869047619048, 0.6799999999999999)\n",
            "(0.3273313492063492, 0.6849999999999999)\n",
            "(0.3255339635854342, 0.7083333333333333)\n",
            "(0.31184523809523806, 0.725)\n",
            "(0.30892857142857144, 0.7416666666666666)\n",
            "(0.3085119047619048, 0.7488636363636363)\n",
            "(0.30580357142857145, 0.7488636363636363)\n",
            "(0.3055288461538462, 0.7488636363636363)\n",
            "(0.30160714285714285, 0.7488636363636363)\n",
            "(0.2917395104895105, 0.7525000000000001)\n",
            "(0.25583874458874456, 0.7534090909090909)\n",
            "(0.2505357142857143, 0.7534090909090909)\n",
            "(0.2441468253968254, 0.7534090909090909)\n",
            "(0.2391468253968254, 0.766801948051948)\n",
            "(0.2391468253968254, 0.766801948051948)\n",
            "(0.23685924369747902, 0.7779761904761904)\n",
            "(0.21450320512820512, 0.7892857142857143)\n",
            "(0.20236111111111113, 0.7892857142857143)\n",
            "(0.19511752136752136, 0.7910714285714284)\n",
            "(0.17840277777777777, 0.7979166666666667)\n",
            "(0.175625, 0.81125)\n",
            "(0.1612019230769231, 0.8196428571428571)\n",
            "(0.14978001165501165, 0.8375)\n",
            "(0.13580128205128206, 0.8458333333333332)\n",
            "(0.130952380952381, 0.8553571428571429)\n",
            "(0.1263690476190476, 0.85625)\n",
            "(0.11491071428571427, 0.85625)\n",
            "(0.10324404761904762, 0.85625)\n",
            "(0.08449404761904762, 0.85625)\n",
            "(0.08011904761904762, 0.85625)\n",
            "(0.07678571428571428, 0.8625)\n",
            "(0.0646153846153846, 0.875)\n",
            "(0.052976190476190475, 0.875)\n",
            "(0.04298245614035088, 0.9210526315789473)\n",
            "(0.03383458646616541, 0.9736842105263158)\n",
            "(0.027313311688311692, 0.975)\n",
            "(0.018727106227106226, 0.9833333333333332)\n",
            "(0.006666666666666666, 0.9875)\n",
            "(0.0, 0.9875)\n",
            "(0.0, 1.0)\n",
            "(0.0, 1.0)\n",
            "(0.0, 1.0)\n",
            "(0.0, 1.0)\n",
            "(0.0, 1.0)\n"
          ]
        }
      ]
    },
    {
      "cell_type": "code",
      "source": [
        "df_sen.to_csv(\"/content/gdrive/My Drive/1 nec/sen.csv\" )\n",
        "df_spe.to_csv(\"/content/gdrive/My Drive/1 nec/spe.csv\" )"
      ],
      "metadata": {
        "id": "Hk_-NIZ1qxr_"
      },
      "execution_count": 174,
      "outputs": []
    },
    {
      "cell_type": "code",
      "source": [
        "y = df_sen[32].values\n",
        "x = 1- df_spe[32].values\n",
        "\n",
        "plt.figure(figsize=(12,10))\n",
        "plt.xlabel('1-Specificity')\n",
        "plt.ylabel('Sensitivity')\n",
        "plt.scatter(1-df_spe[32].values, df_sen[32].values, label='window size 32')\n",
        "plt.scatter(1-df_spe[64].values, df_sen[64].values, label='window size 64')\n",
        "plt.scatter(1-df_spe[128].values, df_sen[128].values, label='window size 128')\n",
        "\n",
        "plt.legend()"
      ],
      "metadata": {
        "colab": {
          "base_uri": "https://localhost:8080/",
          "height": 623
        },
        "id": "-2yLUV_iM1rm",
        "outputId": "a90b05a3-5871-4885-a6be-2de01a3835bc"
      },
      "execution_count": 191,
      "outputs": [
        {
          "output_type": "execute_result",
          "data": {
            "text/plain": [
              "<matplotlib.legend.Legend at 0x7fc5a89c9fd0>"
            ]
          },
          "metadata": {},
          "execution_count": 191
        },
        {
          "output_type": "display_data",
          "data": {
            "text/plain": [
              "<Figure size 864x720 with 1 Axes>"
            ],
            "image/png": "[encoded data removed]"
          },
          "metadata": {
            "needs_background": "light"
          }
        }
      ]
    }
  ]
}