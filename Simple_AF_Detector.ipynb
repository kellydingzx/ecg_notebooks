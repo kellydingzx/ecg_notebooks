{
  "nbformat": 4,
  "nbformat_minor": 0,
  "metadata": {
    "colab": {
      "provenance": [],
      "collapsed_sections": [
        "AwCm2218R8XH",
        "uV_HTgQQSc-k"
      ],
      "authorship_tag": "ABX9TyO9cVdma2D+9UD6mkZxLDWP",
      "include_colab_link": true
    },
    "kernelspec": {
      "name": "python3",
      "display_name": "Python 3"
    },
    "language_info": {
      "name": "python"
    }
  },
  "cells": [
    {
      "cell_type": "markdown",
      "metadata": {
        "id": "view-in-github",
        "colab_type": "text"
      },
      "source": [
        "<a href=\"https://colab.research.google.com/github/kellydingzx/ecg_notebooks/blob/main/Simple_AF_Detector.ipynb\" target=\"_parent\"><img src=\"https://colab.research.google.com/assets/colab-badge.svg\" alt=\"Open In Colab\"/></a>"
      ]
    },
    {
      "cell_type": "markdown",
      "source": [
        "## Download databases and Import libraries"
      ],
      "metadata": {
        "id": "AwCm2218R8XH"
      }
    },
    {
      "cell_type": "code",
      "execution_count": null,
      "metadata": {
        "id": "pGatvVHhQ7hf"
      },
      "outputs": [],
      "source": [
        "! wget -r -N -c -np https://physionet.org/files/nsrdb/1.0.0/\n",
        "! wget -r -N -c -np https://physionet.org/files/afdb/1.0.0/"
      ]
    },
    {
      "cell_type": "code",
      "source": [
        "import pip\n",
        "import os\n",
        "\n",
        "try:\n",
        "    import wfdb\n",
        "except ModuleNotFoundError:\n",
        "    pip.main(['install', \"wfdb\"])\n",
        "    import wfdb\n",
        "\n",
        "import numpy as np\n",
        "import matplotlib.pyplot as plt "
      ],
      "metadata": {
        "id": "jqK654OlSGXR"
      },
      "execution_count": null,
      "outputs": []
    },
    {
      "cell_type": "code",
      "source": [
        "! pip install neurokit2"
      ],
      "metadata": {
        "id": "LXsSinbGSYJw"
      },
      "execution_count": null,
      "outputs": []
    },
    {
      "cell_type": "code",
      "source": [
        "from google.colab import drive\n",
        "drive.mount('/content/gdrive')"
      ],
      "metadata": {
        "colab": {
          "base_uri": "https://localhost:8080/"
        },
        "id": "OzTCW9C3Fy5H",
        "outputId": "e1194e5a-14ff-40a8-dc58-6db68ac3d8ad"
      },
      "execution_count": 12,
      "outputs": [
        {
          "output_type": "stream",
          "name": "stdout",
          "text": [
            "Mounted at /content/gdrive\n"
          ]
        }
      ]
    },
    {
      "cell_type": "markdown",
      "source": [
        "## Functions"
      ],
      "metadata": {
        "id": "uV_HTgQQSc-k"
      }
    },
    {
      "cell_type": "code",
      "source": [
        "# def get_peaks(sample_path, leads, fs):\n",
        "#     signal, rest = wfdb.rdsamp(sample_path, sampfrom=0, sampto=60*60*fs*2, \n",
        "#                                 channel_names = leads)\n",
        "#     cleaned = nk2.ecg_clean(signal, fs, method='neurokit2')\n",
        "#     signals, info = nk2.ecg_peaks(cleaned, fs, method='neurokit2')\n",
        "\n",
        "#     return info[\"ECG_R_Peaks\"]\n",
        "def get_peaks(sample_path, leads, fs):\n",
        "    annots = wfdb.rdann(sample_path, 'qrs', sampfrom=0, sampto=None)\n",
        "\n",
        "    return annots.sample \n",
        "    \n",
        "def get_rr_drr(peaks, fs):\n",
        "    rr_intervals = np.diff(peaks)\n",
        "    rr_intervals = np.divide(rr_intervals, fs)\n",
        "    d_rr = np.diff(rr_intervals)\n",
        "\n",
        "    return rr_intervals[1:], d_rr"
      ],
      "metadata": {
        "id": "PZSBd64WSfwb"
      },
      "execution_count": 94,
      "outputs": []
    },
    {
      "cell_type": "code",
      "source": [
        "def get_nec(plot_x, plot_y):\n",
        "    x_min, x_max = min(plot_x), max(plot_x)\n",
        "    y_min, y_max = min(plot_y), max(plot_y)\n",
        "\n",
        "    x_min = 200 if x_min<200 else x_min\n",
        "    y_min = -1000 if y_min<-1000 else y_min\n",
        "    x_max = 2000 if x_max>2000 else x_max\n",
        "    y_max = 2000 if y_max>2000 else y_max\n",
        "\n",
        "    x_start, x_fin = (x_min//25-1)*25 , (x_max//25+1)*25\n",
        "    y_start, y_fin = (y_min//25-1)*25, (y_max//25+1)*25\n",
        "\n",
        "        \n",
        "    nec = 0\n",
        "    for x_i in range(int(x_start), int(x_fin), 25):\n",
        "        for y_i in range(int(y_start), int(y_fin), 25):\n",
        "          if np.any((plot_x >= x_i) & (plot_x < x_i + 25) & \n",
        "                  (plot_y >= y_i) & (plot_y < y_i + 25)):\n",
        "            nec += 1\n",
        "            # x_ind = np.where(np.logical_and(plot_x>=x_i, plot_x<x_i+25))[0]\n",
        "            # y_ind = np.where(np.logical_and(plot_y>=y_i, plot_y<y_i+25))[0]\n",
        "            # in_box = np.intersect1d(x_ind, y_ind)\n",
        "            # if len(in_box)>0: nec+=1\n",
        "    \n",
        "    return nec"
      ],
      "metadata": {
        "id": "AQpg5hAfSsZo"
      },
      "execution_count": 95,
      "outputs": []
    },
    {
      "cell_type": "code",
      "source": [
        "def full_nec(example_path, leads, fs, window_size):\n",
        "\n",
        "    peak_idx = get_peaks(example_path, leads, fs)\n",
        "    annots = wfdb.rdann(example_path, 'atr', sampfrom=0, sampto=None)\n",
        "    af_idx = annots.sample\n",
        "\n",
        "    nec_records = {}\n",
        "    for i in range(0, len(peak_idx)-window_size, window_size+1):\n",
        "        peak_chosen = peak_idx[i:i+window_size+1]\n",
        "        rr, drr = get_rr_drr(peak_chosen, fs)\n",
        "        plot_x = rr*1000\n",
        "        plot_y = drr*1000\n",
        "        nec = get_nec(plot_x, plot_y)\n",
        "        segment = (peak_chosen[0], peak_chosen[-1])\n",
        "        nec_records[segment] = nec\n",
        "    \n",
        "    return nec_records, af_idx"
      ],
      "metadata": {
        "id": "eC6fJBy_St8y"
      },
      "execution_count": 96,
      "outputs": []
    },
    {
      "cell_type": "code",
      "source": [
        "def get_nsr(nec_records, opti):\n",
        "   counts = 0\n",
        "   for seg, nec in nec_records.items():\n",
        "     if nec > opti:\n",
        "       counts += 1\n",
        "   return counts/len(nec_records)"
      ],
      "metadata": {
        "id": "9XtjN5ntSvj1"
      },
      "execution_count": 97,
      "outputs": []
    },
    {
      "cell_type": "code",
      "source": [
        "def get_results(nec_records, af_idx, opti):\n",
        "    true_pos, true_neg, false_pos, false_neg = 0,0,0,0\n",
        "    for seg, nec in nec_records.items():\n",
        "        found = np.where(np.logical_and(af_idx>=seg[0],af_idx<=seg[1]))[0]\n",
        "        if nec > opti and len(found) != 0:\n",
        "            true_pos += 1\n",
        "        elif nec <opti and len(found) == 0:\n",
        "            true_neg +=1\n",
        "        elif nec<opti and len(found)!=0:\n",
        "            false_neg +=1\n",
        "        elif nec>opti and len(found) == 0:\n",
        "            false_pos +=1\n",
        "    return true_pos, true_neg, false_pos, false_neg"
      ],
      "metadata": {
        "id": "DUk_dpkpSxaz"
      },
      "execution_count": 98,
      "outputs": []
    },
    {
      "cell_type": "code",
      "source": [
        "def get_stats(true_pos, true_neg, false_pos, false_neg):\n",
        "    sensitivity = None if true_pos+false_neg == 0 else true_pos/(true_pos+false_neg)\n",
        "    specificity = true_neg/(true_neg+false_pos)\n",
        "    # ppv = true_pos/(true_pos+false_pos)\n",
        "    # f1 = None if sensitivity == None or ppv==0 else 2*ppv*sensitivity/(ppv+sensitivity)\n",
        "    return sensitivity, specificity"
      ],
      "metadata": {
        "id": "fNQufH4dSziF"
      },
      "execution_count": 99,
      "outputs": []
    },
    {
      "cell_type": "code",
      "source": [
        "def af_analyse(nec_records, af_idx, window_size, opti):\n",
        "    tp, tn, fp, fn = get_results(nec_records, af_idx, opti)\n",
        "    sen, spe = get_stats(tp, tn, fp, fn)\n",
        "    return sen, spe"
      ],
      "metadata": {
        "id": "SVHWpbo9S1PF"
      },
      "execution_count": 100,
      "outputs": []
    },
    {
      "cell_type": "code",
      "source": [
        "def nsr_analyse(example_path, leads, fs, window_size, opti):\n",
        "    nec_records, _ = full_nec(example_path, leads, fs, window_size)\n",
        "    counts = get_nsr(nec_records, opti)\n",
        "    return counts"
      ],
      "metadata": {
        "id": "9Rs8zsQ_S29b"
      },
      "execution_count": 101,
      "outputs": []
    },
    {
      "cell_type": "markdown",
      "source": [],
      "metadata": {
        "id": "8WxzFaiQS5ga"
      }
    },
    {
      "cell_type": "markdown",
      "source": [
        "## Tests"
      ],
      "metadata": {
        "id": "3eZpFA7MT_53"
      }
    },
    {
      "cell_type": "code",
      "source": [
        "paths = '/content/physionet.org/files/afdb/1.0.0/04048'\n",
        "annots = wfdb.rdann(paths, 'qrs', sampfrom=0, sampto=None)"
      ],
      "metadata": {
        "id": "nJy0q-dFUCCh"
      },
      "execution_count": 14,
      "outputs": []
    },
    {
      "cell_type": "code",
      "source": [
        "annots.sample"
      ],
      "metadata": {
        "colab": {
          "base_uri": "https://localhost:8080/"
        },
        "id": "w_dhm6AfWQED",
        "outputId": "aa8f20e7-4ad0-44bd-ba4f-0d1c5c3fb3f4"
      },
      "execution_count": 27,
      "outputs": [
        {
          "output_type": "execute_result",
          "data": {
            "text/plain": [
              "array([    352,     569,     778, ..., 8782388, 8782479, 8782697])"
            ]
          },
          "metadata": {},
          "execution_count": 27
        }
      ]
    },
    {
      "cell_type": "code",
      "source": [
        "import os\n",
        "arr = os.listdir('/content/physionet.org/files/afdb/1.0.0/')\n",
        "\n",
        "sample_ids = []\n",
        "for file in arr:\n",
        "    if '.atr' in file:\n",
        "      current_id = int(file[:5])\n",
        "      if current_id not in sample_ids:\n",
        "        sample_ids.append(current_id)\n",
        "sample_ids.sort()\n",
        "\n",
        "sample_ids.remove(int('03665'))\n",
        "sample_ids.remove(int('00735'))\n",
        "sample_ids.remove(int('04043'))\n",
        "\n",
        "all_ids = list(set(sample_ids)) "
      ],
      "metadata": {
        "id": "Bny4klF-X9Yl"
      },
      "execution_count": 102,
      "outputs": []
    },
    {
      "cell_type": "code",
      "source": [
        "result = {}\n",
        "opti = {32:23, 64:40, 128:65}\n",
        "for win in [32, 64, 128]:\n",
        "  for lead in ['ECG1', 'ECG2']:\n",
        "    nec = []\n",
        "    for id in all_ids:\n",
        "      str_id = str(id)\n",
        "      if len(str_id)<5:\n",
        "        str_id = '0'*(5-len(str_id)) + str_id\n",
        "  \n",
        "      nec, af = full_nec('/content/physionet.org/files/afdb/1.0.0/'+str_id, [lead], 250, win)\n",
        "      model_save_name = str(id)+'-'+lead+'-'+str(win)+'.npz'\n",
        "      path = F\"/content/gdrive/My Drive/0 nec/{model_save_name}\" \n",
        "      np.savez(path, nec=nec, af=af)"
      ],
      "metadata": {
        "id": "V00bTrCUYERa"
      },
      "execution_count": 104,
      "outputs": []
    },
    {
      "cell_type": "code",
      "source": [
        "import pandas as pd"
      ],
      "metadata": {
        "id": "DcBP7EfbKztV"
      },
      "execution_count": 90,
      "outputs": []
    },
    {
      "cell_type": "code",
      "source": [
        "df_sen = pd.DataFrame(0.0, index=range(1, 128), columns=[32, 64, 128])\n",
        "df_spe = pd.DataFrame(0.0, index=range(1, 128), columns=[32, 64, 128])\n",
        "\n",
        "for win in [32, 64, 128]:\n",
        "  for opti in range(1, win):\n",
        "    sens = []\n",
        "    spes = []\n",
        "    for id in all_ids:\n",
        "      for lead in ['ECG1', 'ECG2']:\n",
        "        model_save_name = str(id)+'-'+lead+'-'+str(win)+'.npz'\n",
        "        path = F\"/content/gdrive/My Drive/0 nec/{model_save_name}\" \n",
        "        saved = np.load(path, allow_pickle=True)\n",
        "        nec = saved['nec'].item()\n",
        "        af = saved['af']\n",
        "  \n",
        "        sen, spe = af_analyse(nec, af, win, opti)\n",
        "        if sen == None:\n",
        "          break\n",
        "        sens.append(sen)\n",
        "        spes.append(spe)\n",
        "    print((np.mean(sens), np.mean(spes)))\n",
        "    df_sen.loc[opti, win] = np.mean(sens)\n",
        "    df_spe.loc[opti, win] = np.mean(spes)\n",
        "      "
      ],
      "metadata": {
        "colab": {
          "base_uri": "https://localhost:8080/"
        },
        "id": "zga9H4aNbCZJ",
        "outputId": "09eed133-cc83-4e14-b589-205db491ec00"
      },
      "execution_count": 116,
      "outputs": [
        {
          "output_type": "stream",
          "name": "stdout",
          "text": [
            "(1.0, 0.0)\n",
            "(1.0, 0.0)\n",
            "(1.0, 0.005109951440294156)\n",
            "(1.0, 0.026018953534642432)\n",
            "(1.0, 0.09079596574872861)\n",
            "(1.0, 0.1440592954789829)\n",
            "(0.9964285714285716, 0.19446410224460017)\n",
            "(0.9921992481203008, 0.2433879638881303)\n",
            "(0.9900903210113736, 0.2876650181596209)\n",
            "(0.9857295199086245, 0.32949652155767506)\n",
            "(0.9802983322983323, 0.3684973638439371)\n",
            "(0.9447455634297739, 0.4025829385673216)\n",
            "(0.9384477703059794, 0.43304479988228417)\n",
            "(0.8927149779803889, 0.46108924070083734)\n",
            "(0.8766583599615515, 0.4844154426168184)\n",
            "(0.870620624423816, 0.5042550959881604)\n",
            "(0.8562324487856403, 0.5222103429403672)\n",
            "(0.8408655761430872, 0.5388932274341999)\n",
            "(0.8316338600688724, 0.554388316063567)\n",
            "(0.8006968663304279, 0.5684087512067473)\n",
            "(0.7668049813353418, 0.5815927883396987)\n",
            "(0.7288628954875758, 0.5945591451077601)\n",
            "(0.6934191164111387, 0.6086366576509237)\n",
            "(0.6119162220960167, 0.6233686248820002)\n",
            "(0.5014542581189311, 0.6412584144474968)\n",
            "(0.4479496897382388, 0.6615161823190112)\n",
            "(0.3662038669124512, 0.6880133840600507)\n",
            "(0.22734080229238676, 0.7292915067912198)\n",
            "(0.12319776628600158, 0.8013783627288827)\n",
            "(0.03860265805686007, 0.9070316388547512)\n",
            "(0.0, 1.0)\n",
            "(1.0, 0.0)\n",
            "(1.0, 0.0)\n",
            "(1.0, 0.0024227396332337273)\n",
            "(1.0, 0.007475914413790049)\n",
            "(1.0, 0.03743361300417853)\n",
            "(1.0, 0.0710601394245061)\n",
            "(1.0, 0.1048645856650623)\n",
            "(1.0, 0.13923041979224446)\n",
            "(0.9964285714285716, 0.17167203404606718)\n",
            "(0.9964285714285716, 0.20340935077007033)\n",
            "(0.9964285714285716, 0.234315750628263)\n",
            "(0.9797619047619047, 0.26263737504511464)\n",
            "(0.9752213064713064, 0.293078842340101)\n",
            "(0.9710771455474845, 0.323260135633569)\n",
            "(0.9698866693570082, 0.35102347823971747)\n",
            "(0.9636497822222339, 0.37430763269384376)\n",
            "(0.9596684153887545, 0.39674433932747594)\n",
            "(0.9380017487220877, 0.4179008434268575)\n",
            "(0.9348767487220877, 0.43589904733865537)\n",
            "(0.934648853573418, 0.4502127691856579)\n",
            "(0.9268760262725781, 0.46431331678170373)\n",
            "(0.9260139573070608, 0.4770583976089169)\n",
            "(0.9251518883415436, 0.4889908524159928)\n",
            "(0.9238505354294828, 0.5000179138892336)\n",
            "(0.9089628732849071, 0.5097178873148069)\n",
            "(0.8798577672934158, 0.5193160277071586)\n",
            "(0.8702259967853095, 0.5285701853530554)\n",
            "(0.8667145593869734, 0.537178082072922)\n",
            "(0.8374919289749798, 0.5443299293179154)\n",
            "(0.8292491389012039, 0.5516793522253435)\n",
            "(0.7909182111926014, 0.5588034578965342)\n",
            "(0.7716615915175495, 0.5658878754928403)\n",
            "(0.7552165793486041, 0.5725384982689643)\n",
            "(0.7383904483272815, 0.5802740166347344)\n",
            "(0.695621004239068, 0.586396033334366)\n",
            "(0.6670331642027074, 0.5921237306489575)\n",
            "(0.6493198019845684, 0.5975862136316457)\n",
            "(0.6279418297345929, 0.6037417356551794)\n",
            "(0.6133590751534104, 0.6097956003336076)\n",
            "(0.5853218965162997, 0.6154647288433663)\n",
            "(0.5628342864202761, 0.6208686428168804)\n",
            "(0.5428462952511819, 0.6270579202924326)\n",
            "(0.5311297127709784, 0.633265021167111)\n",
            "(0.487002526875297, 0.6394598374363455)\n",
            "(0.4329543561552557, 0.646666958938353)\n",
            "(0.4100292167699028, 0.6536501076892904)\n",
            "(0.3895209485058586, 0.6607469835099137)\n",
            "(0.3463373215598467, 0.6688490520295982)\n",
            "(0.30498624028553606, 0.678006505183407)\n",
            "(0.27061801204806135, 0.6877063425585576)\n",
            "(0.23392138198059248, 0.70007785211387)\n",
            "(0.21023786782774917, 0.7133867389456756)\n",
            "(0.18534270760685853, 0.7302644980381725)\n",
            "(0.16021834098659654, 0.7519196196147337)\n",
            "(0.12166102184199176, 0.7775778758596942)\n",
            "(0.09595198877811147, 0.8085050014802354)\n",
            "(0.05766521035189078, 0.844688374740719)\n",
            "(0.0375137621324062, 0.8858435843852395)\n",
            "(0.02630952380952381, 0.9270319336294118)\n",
            "(0.006619815350695879, 0.9629367389820007)\n",
            "(0.0016129032258064516, 0.9868447380650203)\n",
            "(0.0, 0.9972382342313487)\n",
            "(0.0, 1.0)\n",
            "(1.0, 0.0)\n",
            "(1.0, 0.0)\n",
            "(1.0, 0.0010221619176843057)\n",
            "(1.0, 0.0028091516593045643)\n",
            "(1.0, 0.01437875927499549)\n",
            "(1.0, 0.03243710179074677)\n",
            "(1.0, 0.05119406491057281)\n",
            "(0.9954545454545455, 0.06965810340628342)\n",
            "(0.9954545454545455, 0.09241051310199935)\n",
            "(0.9954545454545455, 0.11564273329047885)\n",
            "(0.9954545454545455, 0.13601265747044228)\n",
            "(0.9954545454545455, 0.158297140645618)\n",
            "(0.9954545454545455, 0.17992749419624748)\n",
            "(0.9954545454545455, 0.2025308721754072)\n",
            "(0.9954545454545455, 0.2257456225191672)\n",
            "(0.9954545454545455, 0.2481557246852125)\n",
            "(0.9954545454545455, 0.269089687180493)\n",
            "(0.9954545454545455, 0.29155381352955184)\n",
            "(0.9916083916083916, 0.31282294624455365)\n",
            "(0.9861538461538462, 0.33461644572145044)\n",
            "(0.9820629370629371, 0.35369815452712194)\n",
            "(0.9820629370629371, 0.3690664928577915)\n",
            "(0.9815073815073816, 0.38259609524558924)\n",
            "(0.9750427350427351, 0.3952870336424388)\n",
            "(0.9675174825174825, 0.40639266332873925)\n",
            "(0.9637674825174825, 0.41798333450264397)\n",
            "(0.9429341491841491, 0.42901046201547394)\n",
            "(0.9429341491841491, 0.4400929860745932)\n",
            "(0.9429341491841491, 0.44882392376008706)\n",
            "(0.9387674825174823, 0.45780014070620006)\n",
            "(0.9346008158508159, 0.46634195705745657)\n",
            "(0.9282371794871794, 0.4739936238966062)\n",
            "(0.9200553613053613, 0.48118673415270863)\n",
            "(0.9155261405261405, 0.4884355752693076)\n",
            "(0.9101689976689975, 0.4943891483161921)\n",
            "(0.9084848484848486, 0.4999462624881826)\n",
            "(0.8973659120765382, 0.50508025941671)\n",
            "(0.8938053060159321, 0.5116541527930569)\n",
            "(0.8862515425750719, 0.5169863497996088)\n",
            "(0.882379659510996, 0.522818575296624)\n",
            "(0.8781861639309458, 0.5274323498375095)\n",
            "(0.8709844832586768, 0.5329148865935384)\n",
            "(0.8658178165920102, 0.5390046240987576)\n",
            "(0.8535738644657052, 0.5437857483836838)\n",
            "(0.8430423589341997, 0.5485084656334667)\n",
            "(0.8368920386662321, 0.5535011203799581)\n",
            "(0.8188177110330811, 0.5576676238676965)\n",
            "(0.8139692261845962, 0.5624209380314011)\n",
            "(0.8139692261845962, 0.5661654535785006)\n",
            "(0.7970773855773856, 0.5704871883165189)\n",
            "(0.7947092641352602, 0.5749911693868508)\n",
            "(0.7904642651255555, 0.5790078714794152)\n",
            "(0.7831534411199479, 0.5829893632656935)\n",
            "(0.7765361110356366, 0.5860331657621658)\n",
            "(0.7727482322477578, 0.5888076917972418)\n",
            "(0.7713048906431259, 0.5922682895975937)\n",
            "(0.7645113973980198, 0.5949726053668059)\n",
            "(0.7537989790973662, 0.5984346421194602)\n",
            "(0.7385040414641932, 0.6017825357894722)\n",
            "(0.7297903673387545, 0.6049055807179297)\n",
            "(0.7269721855205725, 0.6080031377783246)\n",
            "(0.7261878717950824, 0.6114979613171678)\n",
            "(0.7206284312356418, 0.6147729048320802)\n",
            "(0.7081227280996866, 0.6178003547262116)\n",
            "(0.6989132401086862, 0.6206170732005969)\n",
            "(0.6761669202931376, 0.6235969442054554)\n",
            "(0.6499632521881098, 0.6264718986182736)\n",
            "(0.6165201509148199, 0.6292846816641566)\n",
            "(0.6050915661399532, 0.6315129197191076)\n",
            "(0.6029883316837776, 0.6345777056599706)\n",
            "(0.5958502009972598, 0.6367995425104331)\n",
            "(0.585218785684303, 0.6395415960343972)\n",
            "(0.5725513802907074, 0.6426197467203261)\n",
            "(0.5649988019299, 0.6460955792603761)\n",
            "(0.5361023947441605, 0.6691106705161586)\n",
            "(0.47618160908246293, 0.6514757055777716)\n",
            "(0.4653320960060592, 0.6552366834041011)\n",
            "(0.4586042281865471, 0.6578359769117298)\n",
            "(0.45312134908102647, 0.6605808212681263)\n",
            "(0.445347906790064, 0.6628452917170453)\n",
            "(0.4374335286224854, 0.6659156311707678)\n",
            "(0.4233392255892256, 0.668988887755976)\n",
            "(0.3858999333999334, 0.6727749764783609)\n",
            "(0.36988603600700376, 0.6778724703317514)\n",
            "(0.3563605691693927, 0.6818223669149723)\n",
            "(0.342209924747401, 0.6856274972230949)\n",
            "(0.32775659376465827, 0.6892507860286452)\n",
            "(0.31918203714427956, 0.6937195258392608)\n",
            "(0.28957673807673806, 0.6994689294949137)\n",
            "(0.2684447783399396, 0.7040861221944178)\n",
            "(0.2359487294153193, 0.7085647725414062)\n",
            "(0.22540375198085397, 0.7139653872254393)\n",
            "(0.21227165535989068, 0.7204850242184789)\n",
            "(0.1997169497169497, 0.7280487051246393)\n",
            "(0.1956835220222644, 0.7364566430031818)\n",
            "(0.1783220657980781, 0.7446758095690978)\n",
            "(0.17094829040209653, 0.7526643416069618)\n",
            "(0.15653199249973443, 0.7625388779627686)\n",
            "(0.133457863938996, 0.7726391649621096)\n",
            "(0.11308895589967696, 0.7833733979786544)\n",
            "(0.1044658171586137, 0.7943025220735909)\n",
            "(0.09169374054857925, 0.8065149233356472)\n",
            "(0.08543434343434342, 0.8190082373736278)\n",
            "(0.08384294558488106, 0.8298621722342924)\n",
            "(0.07974679178533135, 0.8414813730425699)\n",
            "(0.073928145552892, 0.8578728068446502)\n",
            "(0.06248283594962911, 0.8718720080051414)\n",
            "(0.04766870384517443, 0.8872477980413983)\n",
            "(0.04321815439462498, 0.9027088760068039)\n",
            "(0.04126658744305803, 0.9189428308235899)\n",
            "(0.039599920776391365, 0.9337407953869764)\n",
            "(0.022879490668864483, 0.9480614408393329)\n",
            "(0.019472083261457072, 0.9607412671881855)\n",
            "(0.015782256958727547, 0.970002598634278)\n",
            "(0.015711031887502475, 0.9792762602060489)\n",
            "(0.007377698554169143, 0.9858738755935743)\n",
            "(0.00552584670231729, 0.9904230343765679)\n",
            "(0.00552584670231729, 0.9943638449763743)\n",
            "(0.004545454545454545, 0.9962911596151967)\n",
            "(0.0, 0.9982597786448053)\n",
            "(0.0, 0.9989817387852323)\n",
            "(0.0, 0.9995454545454546)\n",
            "(0.0, 0.9998489425981874)\n",
            "(0.0, 1.0)\n",
            "(0.0, 1.0)\n",
            "(0.0, 1.0)\n",
            "(0.0, 1.0)\n"
          ]
        }
      ]
    },
    {
      "cell_type": "code",
      "source": [
        "df_sen.to_csv(\"/content/gdrive/My Drive/0 nec/sen.csv\" )\n",
        "df_spe.to_csv(\"/content/gdrive/My Drive/0 nec/spe.csv\" )"
      ],
      "metadata": {
        "id": "Hk_-NIZ1qxr_"
      },
      "execution_count": 117,
      "outputs": []
    },
    {
      "cell_type": "code",
      "source": [
        "y = df_sen[32].values\n",
        "x = 1- df_spe[32].values\n",
        "\n",
        "plt.figure(figsize=(12,10))\n",
        "plt.xlabel('1-Specificity')\n",
        "plt.ylabel('Sensitivity')\n",
        "plt.scatter(1- df_spe[32].values, df_sen[32].values, label='window size 32')\n",
        "plt.scatter(1- df_spe[64].values, df_sen[64].values, label='window size 64')\n",
        "plt.scatter(1- df_spe[128].values, df_sen[128].values, label='window size 128')\n",
        "\n",
        "plt.legend()"
      ],
      "metadata": {
        "colab": {
          "base_uri": "https://localhost:8080/",
          "height": 623
        },
        "id": "-2yLUV_iM1rm",
        "outputId": "39b9be42-57ee-4514-8428-8137ca9bb70a"
      },
      "execution_count": 121,
      "outputs": [
        {
          "output_type": "execute_result",
          "data": {
            "text/plain": [
              "<matplotlib.legend.Legend at 0x7fc5a8e1dbb0>"
            ]
          },
          "metadata": {},
          "execution_count": 121
        },
        {
          "output_type": "display_data",
          "data": {
            "text/plain": [
              "<Figure size 864x720 with 1 Axes>"
            ],
            "image/png": "[encoded data removed]"
          },
          "metadata": {
            "needs_background": "light"
          }
        }
      ]
    }
  ]
}