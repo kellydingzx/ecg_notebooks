{
  "cells": [
    {
      "cell_type": "markdown",
      "metadata": {
        "id": "view-in-github",
        "colab_type": "text"
      },
      "source": [
        "<a href=\"https://colab.research.google.com/github/kellydingzx/ecg_notebooks/blob/main/pantompskin.ipynb\" target=\"_parent\"><img src=\"https://colab.research.google.com/assets/colab-badge.svg\" alt=\"Open In Colab\"/></a>"
      ]
    },
    {
      "cell_type": "markdown",
      "metadata": {
        "id": "fRjCYnF-R6ZS"
      },
      "source": [
        "## Imports "
      ]
    },
    {
      "cell_type": "code",
      "source": [
        "!wget -r -N -c -np https://physionet.org/files/nsrdb/1.0.0/"
      ],
      "metadata": {
        "id": "G4cejnbiTk5b"
      },
      "execution_count": null,
      "outputs": []
    },
    {
      "cell_type": "code",
      "execution_count": 13,
      "metadata": {
        "id": "ELuJyYZER6ZU"
      },
      "outputs": [],
      "source": [
        "import pip\n",
        "import os\n",
        "\n",
        "try:\n",
        "    import wfdb\n",
        "except ModuleNotFoundError:\n",
        "    pip.main(['install', \"wfdb\"])\n",
        "    import wfdb\n",
        "\n",
        "import numpy as np\n",
        "import matplotlib.pyplot as plt "
      ]
    },
    {
      "cell_type": "code",
      "execution_count": 14,
      "metadata": {
        "id": "4CSWi4tnR6ZU"
      },
      "outputs": [],
      "source": [
        "import sys\n",
        "\n",
        "import readin\n",
        "import display\n",
        "\n",
        "import numpy as np\n",
        "from scipy import signal, ndimage"
      ]
    },
    {
      "cell_type": "code",
      "source": [
        "def pan_tompkins(input_signal, sampling_frequency, low, high):\n",
        "    filtered_singal = bandpass_filter(input_signal, low, high,sampling_frequency)\n",
        "    moving_avg = moving_window_integration(squaring(derivative(filtered_singal, sampling_frequency\n",
        "                                            )), int(0.15*sampling_frequency))\n",
        "    moving_avg[: int(0.2 * sampling_frequency)] = 0\n",
        "    peaks = detect_peaks(moving_avg, sampling_frequency)\n",
        "\n",
        "    return peaks\n",
        "\n",
        "def detect_peaks(detection, sampling_rate=1000, **kwargs):\n",
        "    \"\"\"Based on https://github.com/berndporr/py-ecg-detectors/\n",
        "    Optimized for vectorized computation.\n",
        "    \"\"\"\n",
        "    min_peak_distance = int(0.3 * sampling_rate)\n",
        "    min_missed_distance = int(0.25 * sampling_rate)\n",
        "\n",
        "    signal_peaks = []\n",
        "\n",
        "    SPKI = 0.0\n",
        "    NPKI = 0.0\n",
        "\n",
        "    last_peak = 0\n",
        "    last_index = -1\n",
        "\n",
        "    peaks, _ = signal.find_peaks(detection, plateau_size=(1, 1))\n",
        "    for index, peak in enumerate(peaks):\n",
        "        peak_value = detection[peak]\n",
        "\n",
        "        threshold_I1 = NPKI + 0.25 * (SPKI - NPKI)\n",
        "        if peak_value > threshold_I1 and peak > last_peak + min_peak_distance:\n",
        "            signal_peaks.append(peak)\n",
        "\n",
        "            # RR_missed threshold is based on the previous eight R-R intervals\n",
        "            if len(signal_peaks) > 9:\n",
        "                RR_ave = (signal_peaks[-2] - signal_peaks[-10]) // 8\n",
        "                RR_missed = int(1.66 * RR_ave)\n",
        "                if peak - last_peak > RR_missed:\n",
        "                    missed_peaks = peaks[last_index + 1 : index]\n",
        "                    missed_peaks = missed_peaks[\n",
        "                        (missed_peaks > last_peak + min_missed_distance)\n",
        "                        & (missed_peaks < peak - min_missed_distance)\n",
        "                    ]\n",
        "                    threshold_I2 = 0.5 * threshold_I1\n",
        "                    missed_peaks = missed_peaks[detection[missed_peaks] > threshold_I2]\n",
        "                    if len(missed_peaks) > 0:\n",
        "                        signal_peaks[-1] = missed_peaks[np.argmax(detection[missed_peaks])]\n",
        "                        signal_peaks.append(peak)\n",
        "\n",
        "            last_peak = peak\n",
        "            last_index = index\n",
        "\n",
        "            SPKI = 0.125 * peak_value + 0.875 * SPKI\n",
        "        else:\n",
        "            NPKI = 0.125 * peak_value + 0.875 * NPKI\n",
        "\n",
        "    return signal_peaks\n",
        "\n",
        "def moving_window_integration(signal, window_size):\n",
        "    window_size = int(window_size)\n",
        "\n",
        "    mwa = ndimage.uniform_filter1d(signal, window_size, origin=(window_size - 1) // 2)\n",
        "\n",
        "    head_size = min(window_size - 1, len(signal))\n",
        "    mwa[:head_size] = np.cumsum(signal[:head_size]) / np.linspace(1, head_size, head_size)\n",
        "    return mwa\n",
        "\n",
        "def squaring(input_signal):\n",
        "    return np.square(input_signal)\n",
        "\n",
        "def derivative(input_signal, sampled_frequency):\n",
        "    return derivative_difference_equation(input_signal, sampled_frequency)\n",
        "\n",
        "def bandpass_filter(input_signal, low, high, sampling_freq):\n",
        "    return highpass_filter(lowpass_filter(input_signal, high, sampling_freq), low, sampling_freq)\n",
        "\n",
        "def lowpass_filter(input_signal, cutoff, sampling_freq):\n",
        "    return low_pass_scipy_butterworth(input_signal, cutoff, sampling_freq)\n",
        "\n",
        "def highpass_filter(input_signal, cutoff, sampling_freq):\n",
        "    return high_pass_scipy_butterworth(input_signal, cutoff, sampling_freq)\n",
        "\n",
        "def derivative_numpy(input_signal, sampling_frequency):\n",
        "    return np.diff(input_signal)\n",
        "\n",
        "# y(n) = (1/8)*T \n",
        "#        *[-x(n-2) -2*x(n-1) +2x(n+1) +x(n+2)]\n",
        "def derivative_difference_equation(input_signal, sampled_frequency):\n",
        "    derived_signal = input_signal.copy()\n",
        "    for index in range(len(input_signal)):\n",
        "        derived_sample = derived_signal[index]\n",
        "        if (index >= 2): derived_sample -= input_signal[index-2]\n",
        "        if (index >= 1): derived_sample -= 2*input_signal[index-1]\n",
        "        \n",
        "        if (index < len(input_signal)-1): derived_sample += 2*input_signal[index+1]\n",
        "        if (index < len(input_signal)-2): derived_sample += input_signal[index+2]\n",
        "    \n",
        "    derived_signal = derived_signal / ((1/8)*(1/sampled_frequency))\n",
        "    return derived_signal\n",
        "\n",
        "def low_pass_scipy_butterworth(input_signal, cutoff_freq, sampling_freq):\n",
        "    sos = signal.butter(2, cutoff_freq/(sampling_freq/2), 'low', output='sos')\n",
        "    filtered_signal = signal.sosfilt(sos, input_signal)\n",
        "    return filtered_signal\n",
        "\n",
        "def high_pass_scipy_butterworth(input_signal, cutoff_freq, sampling_freq):\n",
        "    sos = signal.butter(1, cutoff_freq/(sampling_freq/2), 'high', output='sos')\n",
        "    filtered_signal = signal.sosfilt(sos, input_signal)\n",
        "    return filtered_signal"
      ],
      "metadata": {
        "id": "Tbju7xTzSin_"
      },
      "execution_count": 15,
      "outputs": []
    },
    {
      "cell_type": "markdown",
      "metadata": {
        "id": "h5IcQzxER6ZV"
      },
      "source": [
        "## Run Method"
      ]
    },
    {
      "cell_type": "code",
      "source": [
        "def pre_low_pass(input_signal, sampling_freq):\n",
        "    sos = signal.butter(2, 0.683/(sampling_freq/2), 'high', output='sos')\n",
        "    filtered_signal = signal.sosfilt(sos, input_signal)\n",
        "    return filtered_signal"
      ],
      "metadata": {
        "id": "C9K4PxrOW-vb"
      },
      "execution_count": 9,
      "outputs": []
    },
    {
      "cell_type": "code",
      "execution_count": 10,
      "metadata": {
        "id": "eOAXRSBeR6ZV"
      },
      "outputs": [],
      "source": [
        "def run_pantompkins(path, lead, low_cutoff, high_cutoff, sampling_freq, signal_length):\n",
        "    \n",
        "    example_path = path\n",
        "    leads = [lead]\n",
        "\n",
        "    raw_samples, real_peaks= readin.get_data(example_path, leads, 0, signal_length)\n",
        "    raw_samples = raw_samples.squeeze()\n",
        "    \n",
        "    pre_low = pre_low_pass(raw_samples, sampling_freq)\n",
        "\n",
        "    low_pass = lowpass_filter(pre_low[100:], high_cutoff, sampling_freq)\n",
        "    high_pass = highpass_filter(low_pass, low_cutoff, sampling_freq)\n",
        "\n",
        "    derived = derivative(high_pass, sampling_freq)\n",
        "    squared = squaring(derived)\n",
        "\n",
        "    mvg = moving_window_integration(squared, int(0.15*sampling_freq))\n",
        "\n",
        "    peaks = pan_tompkins(pre_low, sampling_freq, low_cutoff, high_cutoff)\n",
        "    fig, axs = plt.subplots(8, figsize=(15, 40))\n",
        "    axs[0].plot(raw_samples)\n",
        "    axs[0].title.set_text('a) Raw')\n",
        "    axs[1].plot(pre_low)\n",
        "    axs[1].title.set_text('b) Shifted')\n",
        "    axs[2].plot(high_pass)\n",
        "    axs[2].title.set_text('c) Bandpass')\n",
        "    axs[3].plot(derived)\n",
        "    axs[3].title.set_text('d) Derivative')\n",
        "    axs[4].plot(squared)\n",
        "    axs[4].title.set_text('e) Squaring')\n",
        "    axs[5].plot(mvg)\n",
        "    axs[5].title.set_text('f) Moving Average')\n",
        "    shift_back = []\n",
        "    for peak in peaks:\n",
        "      shift_back.append(peak+100)\n",
        "    display.np_mark_peaks(axs[6], pre_low, shift_back, 'g) Peaks')\n",
        "    display.np_mark_peaks(axs[7], pre_low, real_peaks, 'h) Annotations')\n",
        "\n",
        "    real_predicted = [i for i in real_peaks if i>100]\n",
        "    return shift_back, real_predicted\n",
        "\n",
        "def evaluation(peaks, real_peaks, interval):\n",
        "    check_peaks = real_peaks[1:]\n",
        "    n_ref = len(check_peaks)\n",
        "    n_detected = len(peaks)\n",
        "    count = 0\n",
        "    for i in range(n_ref):\n",
        "        correct = check_peaks[i]\n",
        "        found = np.where(np.logical_and(peaks>=correct-interval, peaks<=correct+interval))\n",
        "        if len(found) >= 1:\n",
        "            count += 1\n",
        "    sensitivity = count/n_ref\n",
        "    ppv = count/n_detected\n",
        "    f1 = 2*ppv*sensitivity/(ppv+sensitivity)\n",
        "    result = {\"sensitivity\": str(sensitivity*100)+'%',\n",
        "              'PPV': str(ppv*100)+'%',\n",
        "              'F1': str(f1*100) + '%'\n",
        "              }\n",
        "    return result"
      ]
    },
    {
      "cell_type": "code",
      "execution_count": 11,
      "metadata": {
        "id": "EJisslpmR6ZV"
      },
      "outputs": [],
      "source": [
        "def test_pantompkins(path, lead, low_cutoff, high_cutoff, sampling_freq, signal_length):\n",
        "    \n",
        "    example_path = path\n",
        "    leads = [lead]\n",
        "\n",
        "    raw_samples, real_peaks= readin.get_data(example_path, leads, 0, signal_length)\n",
        "    raw_samples = raw_samples.squeeze()\n",
        "    samples =raw_samples - np.mean(raw_samples)\n",
        "\n",
        "    peaks = pan_tompkins(samples, sampling_freq, low_cutoff, high_cutoff)\n",
        "\n",
        "    return peaks, real_peaks"
      ]
    },
    {
      "cell_type": "markdown",
      "source": [
        "## Low pass methods"
      ],
      "metadata": {
        "id": "k2eru3swWXMG"
      }
    },
    {
      "cell_type": "code",
      "source": [
        "spath = '/content/physionet.org/files/nsrdb/1.0.0/16272'\n",
        "print('Clean Signal')\n",
        "peaks, real_peaks = run_pantompkins(spath, 'ECG1', 5, 11, 360, 3000)\n",
        "evaluation(peaks, real_peaks, int(150/(1000/360)))"
      ],
      "metadata": {
        "id": "8LkeyzkRWWe3"
      },
      "execution_count": null,
      "outputs": []
    },
    {
      "cell_type": "code",
      "execution_count": 8,
      "metadata": {
        "id": "ETZi5YWtR6ZX",
        "colab": {
          "base_uri": "https://localhost:8080/",
          "height": 183
        },
        "outputId": "4c5e253c-11ac-4262-a422-c8c193302248"
      },
      "outputs": [
        {
          "output_type": "error",
          "ename": "NameError",
          "evalue": "ignored",
          "traceback": [
            "\u001b[0;31m---------------------------------------------------------------------------\u001b[0m",
            "\u001b[0;31mNameError\u001b[0m                                 Traceback (most recent call last)",
            "\u001b[0;32m<ipython-input-8-54c4797ce1a8>\u001b[0m in \u001b[0;36m<module>\u001b[0;34m\u001b[0m\n\u001b[0;32m----> 1\u001b[0;31m \u001b[0mannots\u001b[0m \u001b[0;34m=\u001b[0m \u001b[0mwfdb\u001b[0m\u001b[0;34m.\u001b[0m\u001b[0mrdann\u001b[0m\u001b[0;34m(\u001b[0m\u001b[0;34m'../../datasets/mit-af/07162'\u001b[0m\u001b[0;34m,\u001b[0m \u001b[0;34m'atr'\u001b[0m\u001b[0;34m,\u001b[0m \u001b[0msampfrom\u001b[0m\u001b[0;34m=\u001b[0m\u001b[0;36m0\u001b[0m\u001b[0;34m,\u001b[0m \u001b[0msampto\u001b[0m\u001b[0;34m=\u001b[0m\u001b[0;36m1000\u001b[0m\u001b[0;34m)\u001b[0m\u001b[0;34m\u001b[0m\u001b[0;34m\u001b[0m\u001b[0m\n\u001b[0m\u001b[1;32m      2\u001b[0m \u001b[0mannots\u001b[0m\u001b[0;34m.\u001b[0m\u001b[0msample\u001b[0m\u001b[0;34m\u001b[0m\u001b[0;34m\u001b[0m\u001b[0m\n",
            "\u001b[0;31mNameError\u001b[0m: name 'wfdb' is not defined"
          ]
        }
      ],
      "source": [
        "annots = wfdb.rdann('../../datasets/mit-af/07162', 'atr', sampfrom=0, sampto=1000)\n",
        "annots.sample"
      ]
    },
    {
      "cell_type": "code",
      "execution_count": null,
      "metadata": {
        "id": "eEeBpqVMR6ZX"
      },
      "outputs": [],
      "source": [
        "print('AF Signal')\n",
        "peaks, real_peaks = run_pantompkins('....//datasets/mit-af/07162', 'ECG2', 5, 128, 1000)\n",
        "evaluation(peaks, real_peaks, int(150/(1000/360)))"
      ]
    },
    {
      "cell_type": "markdown",
      "metadata": {
        "id": "jsdkTEqfR6ZX"
      },
      "source": [
        "## Run on Whole Dataset"
      ]
    },
    {
      "cell_type": "code",
      "execution_count": 2,
      "metadata": {
        "id": "IoxurwUUR6ZX"
      },
      "outputs": [],
      "source": [
        "import os\n",
        "import glob"
      ]
    },
    {
      "cell_type": "code",
      "execution_count": 3,
      "metadata": {
        "id": "kdl7ToxsR6ZX"
      },
      "outputs": [],
      "source": [
        "arr = os.listdir('/content/physionet.org/files/nsrdb/1.0.0')\n",
        "\n",
        "sample_ids = []\n",
        "for file in arr:\n",
        "    if '.atr' in file:\n",
        "        sample_ids.append(file[:5])\n",
        "        "
      ]
    },
    {
      "cell_type": "code",
      "execution_count": 4,
      "metadata": {
        "id": "ENyLPmidR6ZY"
      },
      "outputs": [],
      "source": [
        "root_folder = '/content/physionet.org/files/nsrdb/1.0.0/'\n",
        "sensitivity = []\n",
        "ppv = []\n",
        "f1 = []\n"
      ]
    },
    {
      "cell_type": "code",
      "execution_count": 5,
      "metadata": {
        "id": "rNS85BV9R6ZY",
        "outputId": "603e4225-b501-40e5-f0ae-679532d5b6e2",
        "colab": {
          "base_uri": "https://localhost:8080/"
        }
      },
      "outputs": [
        {
          "output_type": "execute_result",
          "data": {
            "text/plain": [
              "[]"
            ]
          },
          "metadata": {},
          "execution_count": 5
        }
      ],
      "source": [
        "sensitivity"
      ]
    },
    {
      "cell_type": "code",
      "execution_count": 6,
      "metadata": {
        "id": "DckRtyjKR6ZY",
        "colab": {
          "base_uri": "https://localhost:8080/",
          "height": 235
        },
        "outputId": "4d215ace-4807-4a73-fdf4-45c1f43807ad"
      },
      "outputs": [
        {
          "output_type": "error",
          "ename": "NameError",
          "evalue": "ignored",
          "traceback": [
            "\u001b[0;31m---------------------------------------------------------------------------\u001b[0m",
            "\u001b[0;31mNameError\u001b[0m                                 Traceback (most recent call last)",
            "\u001b[0;32m<ipython-input-6-15425a1a6819>\u001b[0m in \u001b[0;36m<module>\u001b[0;34m\u001b[0m\n\u001b[1;32m      1\u001b[0m \u001b[0;32mfor\u001b[0m \u001b[0mid\u001b[0m \u001b[0;32min\u001b[0m \u001b[0msample_ids\u001b[0m\u001b[0;34m[\u001b[0m\u001b[0;36m8\u001b[0m\u001b[0;34m:\u001b[0m\u001b[0;34m]\u001b[0m\u001b[0;34m:\u001b[0m\u001b[0;34m\u001b[0m\u001b[0;34m\u001b[0m\u001b[0m\n\u001b[1;32m      2\u001b[0m     \u001b[0msample_path\u001b[0m \u001b[0;34m=\u001b[0m \u001b[0mroot_folder\u001b[0m \u001b[0;34m+\u001b[0m \u001b[0mid\u001b[0m\u001b[0;34m\u001b[0m\u001b[0;34m\u001b[0m\u001b[0m\n\u001b[0;32m----> 3\u001b[0;31m     \u001b[0mpeaks\u001b[0m\u001b[0;34m,\u001b[0m \u001b[0mreal_peaks\u001b[0m \u001b[0;34m=\u001b[0m \u001b[0mrun_pantompkins\u001b[0m\u001b[0;34m(\u001b[0m\u001b[0msample_path\u001b[0m\u001b[0;34m,\u001b[0m \u001b[0;34m'ECG2'\u001b[0m\u001b[0;34m,\u001b[0m \u001b[0;36m5\u001b[0m\u001b[0;34m,\u001b[0m \u001b[0;36m11\u001b[0m\u001b[0;34m,\u001b[0m \u001b[0;36m128\u001b[0m\u001b[0;34m,\u001b[0m \u001b[0;36m60\u001b[0m\u001b[0;34m*\u001b[0m\u001b[0;36m60\u001b[0m\u001b[0;34m*\u001b[0m\u001b[0;36m128\u001b[0m\u001b[0;34m)\u001b[0m\u001b[0;34m\u001b[0m\u001b[0;34m\u001b[0m\u001b[0m\n\u001b[0m\u001b[1;32m      4\u001b[0m     \u001b[0mprint\u001b[0m\u001b[0;34m(\u001b[0m\u001b[0;34m'hi'\u001b[0m\u001b[0;34m)\u001b[0m\u001b[0;34m\u001b[0m\u001b[0;34m\u001b[0m\u001b[0m\n\u001b[1;32m      5\u001b[0m     \u001b[0mres\u001b[0m \u001b[0;34m=\u001b[0m \u001b[0mevaluation\u001b[0m\u001b[0;34m(\u001b[0m\u001b[0mpeaks\u001b[0m\u001b[0;34m,\u001b[0m \u001b[0mreal_peaks\u001b[0m\u001b[0;34m,\u001b[0m \u001b[0mint\u001b[0m\u001b[0;34m(\u001b[0m\u001b[0;36m150\u001b[0m\u001b[0;34m/\u001b[0m\u001b[0;34m(\u001b[0m\u001b[0;36m1000\u001b[0m\u001b[0;34m/\u001b[0m\u001b[0;36m128\u001b[0m\u001b[0;34m)\u001b[0m\u001b[0;34m)\u001b[0m\u001b[0;34m)\u001b[0m\u001b[0;34m\u001b[0m\u001b[0;34m\u001b[0m\u001b[0m\n",
            "\u001b[0;31mNameError\u001b[0m: name 'run_pantompkins' is not defined"
          ]
        }
      ],
      "source": [
        "for id in sample_ids[8:]:\n",
        "    sample_path = root_folder + id\n",
        "    peaks, real_peaks = run_pantompkins(sample_path, 'ECG2', 5, 11, 128, 60*60*128)\n",
        "    print('hi')\n",
        "    res = evaluation(peaks, real_peaks, int(150/(1000/128)))\n",
        "    sensitivity.append(res['sensitivity'])\n",
        "    ppv.append(res['PPV'])\n",
        "    f1.append(res['F1'])"
      ]
    },
    {
      "cell_type": "code",
      "execution_count": null,
      "metadata": {
        "id": "weNOd6jwR6ZY"
      },
      "outputs": [],
      "source": [
        "def to_float(arr):\n",
        "    ret = []\n",
        "    for x in arr:\n",
        "        ret.append(float(x[0:-1]))\n",
        "    return ret "
      ]
    },
    {
      "cell_type": "code",
      "execution_count": null,
      "metadata": {
        "id": "CD9itEcYR6ZY",
        "outputId": "4deda8e4-e5f8-480b-e544-a7fa79c4fe3e"
      },
      "outputs": [
        {
          "data": {
            "text/plain": [
              "<matplotlib.legend.Legend at 0x2b413cca790>"
            ]
          },
          "execution_count": 41,
          "metadata": {},
          "output_type": "execute_result"
        },
        {
          "data": {
            "image/png": "[encoded data removed]",
            "text/plain": [
              "<Figure size 1080x360 with 1 Axes>"
            ]
          },
          "metadata": {
            "needs_background": "light"
          },
          "output_type": "display_data"
        }
      ],
      "source": [
        "plt.figure(figsize=(15,5))\n",
        "plt.xlabel('Sample ID')\n",
        "plt.ylabel('Percentage')\n",
        "\n",
        "plt.plot(sample_ids, to_float(sensitivity), label='Sensitivity', marker='o', linestyle='--')\n",
        "plt.plot(sample_ids, to_float(ppv), label='PPV', marker='o', linestyle='--')\n",
        "plt.plot(sample_ids, to_float(f1), label='F1', marker='o', linestyle='--')\n",
        "\n",
        "plt.legend()"
      ]
    },
    {
      "cell_type": "code",
      "execution_count": null,
      "metadata": {
        "id": "SHE7WpnlR6ZY",
        "outputId": "fef61dc8-aa07-4224-c7f9-90f0e9081d7e"
      },
      "outputs": [
        {
          "data": {
            "text/plain": [
              "(88.70252930995336, 94.52263293614219, 90.48624490723604)"
            ]
          },
          "execution_count": 43,
          "metadata": {},
          "output_type": "execute_result"
        }
      ],
      "source": [
        "np.average(to_float(sensitivity)), np.average(to_float(ppv)), np.average(to_float(f1))"
      ]
    }
  ],
  "metadata": {
    "kernelspec": {
      "display_name": "base",
      "language": "python",
      "name": "python3"
    },
    "language_info": {
      "codemirror_mode": {
        "name": "ipython",
        "version": 3
      },
      "file_extension": ".py",
      "mimetype": "text/x-python",
      "name": "python",
      "nbconvert_exporter": "python",
      "pygments_lexer": "ipython3",
      "version": "3.9.7"
    },
    "orig_nbformat": 4,
    "vscode": {
      "interpreter": {
        "hash": "51480fad90fe9d21f60dbdf1474e71297e9cf7d519346d7c8ab062a40f50e1c0"
      }
    },
    "colab": {
      "provenance": [],
      "collapsed_sections": [
        "fRjCYnF-R6ZS",
        "h5IcQzxER6ZV",
        "k2eru3swWXMG"
      ],
      "include_colab_link": true
    }
  },
  "nbformat": 4,
  "nbformat_minor": 0
}